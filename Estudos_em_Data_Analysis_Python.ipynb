{
  "nbformat": 4,
  "nbformat_minor": 0,
  "metadata": {
    "colab": {
      "provenance": [],
      "toc_visible": true,
      "authorship_tag": "ABX9TyP7CTvcIb7DBr79p/h9YUIw",
      "include_colab_link": true
    },
    "kernelspec": {
      "name": "python3",
      "display_name": "Python 3"
    },
    "language_info": {
      "name": "python"
    }
  },
  "cells": [
    {
      "cell_type": "markdown",
      "metadata": {
        "id": "view-in-github",
        "colab_type": "text"
      },
      "source": [
        "<a href=\"https://colab.research.google.com/github/juliaNogueiraC/Estudos-em-Data-Analysis-Python/blob/main/Estudos_em_Data_Analysis_Python.ipynb\" target=\"_parent\"><img src=\"https://colab.research.google.com/assets/colab-badge.svg\" alt=\"Open In Colab\"/></a>"
      ]
    },
    {
      "cell_type": "markdown",
      "source": [
        "# ***NUMPY***\n"
      ],
      "metadata": {
        "id": "TMZARupi6OIT"
      }
    },
    {
      "cell_type": "markdown",
      "source": [
        "##1. Criando array"
      ],
      "metadata": {
        "id": "eFrZwPfX8Qnq"
      }
    },
    {
      "cell_type": "code",
      "execution_count": null,
      "metadata": {
        "id": "q4ADD8C12XFO"
      },
      "outputs": [],
      "source": [
        "import numpy as np\n",
        "\n",
        "# Criando um array unidimensional\n",
        "arr1d = np.array([1, 2, 3, 4, 5])\n",
        "\n",
        "# Criando uma matriz bidimensional\n",
        "arr2d = np.array([[1, 2, 3], [4, 5, 6], [7, 8, 9]])"
      ]
    },
    {
      "cell_type": "markdown",
      "source": [
        "##2. Operações Vetorizadas:\n"
      ],
      "metadata": {
        "id": "Fby6PTwi6ZTZ"
      }
    },
    {
      "cell_type": "code",
      "source": [
        "import numpy as np\n",
        "# Operações simples em arrays\n",
        "arr = np.array([1, 2, 3, 4, 5])\n",
        "\n",
        "# Multiplicação de todos os elementos por 2\n",
        "result = arr * 2\n",
        "print(result)\n",
        "# Adição de 10 a todos os elementos\n",
        "result = arr + 10\n",
        "print(result)\n"
      ],
      "metadata": {
        "colab": {
          "base_uri": "https://localhost:8080/"
        },
        "id": "68c5-9K16dVC",
        "outputId": "fdddeb01-cadc-4463-c1e2-aa5959b0ab6c"
      },
      "execution_count": null,
      "outputs": [
        {
          "output_type": "stream",
          "name": "stdout",
          "text": [
            "[ 2  4  6  8 10]\n",
            "[11 12 13 14 15]\n"
          ]
        }
      ]
    },
    {
      "cell_type": "markdown",
      "source": [
        "##3. Indexação e Fatiamento:"
      ],
      "metadata": {
        "id": "Y8rM_oz164-n"
      }
    },
    {
      "cell_type": "code",
      "source": [
        "import numpy as np\n",
        "# Indexação e fatiamento em arrays\n",
        "arr = np.array([0, 1, 2, 3, 4, 5, 6, 7, 8, 9])\n",
        "\n",
        "# Selecionando elementos de índice 2 a 5\n",
        "subset = arr[2:6]\n",
        "print(subset)\n",
        "\n",
        "# Indexação booleana para selecionar elementos maiores que 5\n",
        "subset = arr[arr > 5]\n",
        "print(subset)\n"
      ],
      "metadata": {
        "colab": {
          "base_uri": "https://localhost:8080/"
        },
        "id": "6deRVF2z67qg",
        "outputId": "2e5dba40-cd44-4a36-ef65-f3aff00356ea"
      },
      "execution_count": null,
      "outputs": [
        {
          "output_type": "stream",
          "name": "stdout",
          "text": [
            "[2 3 4 5]\n",
            "[6 7 8 9]\n"
          ]
        }
      ]
    },
    {
      "cell_type": "code",
      "source": [
        "arr = np.array([0, 1, 2, 3, 4, 5, 6, 7, 8, 9])\n",
        "\n",
        "# Selecionando elementos de índice 2 a 5\n",
        "subset = arr[2:6]\n",
        "\n",
        "# Criando um novo array com os valores selecionados\n",
        "new_arr = subset.copy()\n",
        "\n",
        "print(new_arr)"
      ],
      "metadata": {
        "colab": {
          "base_uri": "https://localhost:8080/"
        },
        "id": "mjD32vP0Kxwb",
        "outputId": "8f6ec65b-36c4-46de-f395-233480a2869c"
      },
      "execution_count": null,
      "outputs": [
        {
          "output_type": "stream",
          "name": "stdout",
          "text": [
            "[2 3 4 5]\n"
          ]
        }
      ]
    },
    {
      "cell_type": "markdown",
      "source": [
        "##4. Funções Matemáticas:"
      ],
      "metadata": {
        "id": "55n63KXn7yrk"
      }
    },
    {
      "cell_type": "code",
      "source": [
        "# Funções matemáticas em arrays\n",
        "arr = np.array([1, 2, 3, 4, 5])\n",
        "\n",
        "# Calculando o seno de cada elemento\n",
        "sin_values = np.sin(arr)\n",
        "print(sin_values)\n",
        "\n",
        "# Calculando a média dos elementos\n",
        "mean_value = np.mean(arr)\n",
        "\n",
        "print(mean_value)\n"
      ],
      "metadata": {
        "colab": {
          "base_uri": "https://localhost:8080/"
        },
        "id": "JAeGrOPF7zpE",
        "outputId": "e6325e9b-0823-48be-df6a-2e76464463a9"
      },
      "execution_count": null,
      "outputs": [
        {
          "output_type": "stream",
          "name": "stdout",
          "text": [
            "[ 0.84147098  0.90929743  0.14112001 -0.7568025  -0.95892427]\n",
            "3.0\n"
          ]
        }
      ]
    },
    {
      "cell_type": "markdown",
      "source": [
        "##5. Operações estatisticas"
      ],
      "metadata": {
        "id": "PAM-QM4n9ATv"
      }
    },
    {
      "cell_type": "code",
      "source": [
        "import numpy as np\n",
        "\n",
        "# Criando um array de dados\n",
        "dados = np.array([10, 15, 12, 8, 20, 14, 18, 22, 25, 16])\n",
        "\n",
        "# Calculando a média e o desvio padrão\n",
        "media = np.mean(dados)\n",
        "print(\"media:\", media)\n",
        "desvio_padrao = np.std(dados)\n",
        "print(\"desvio padrão\", desvio_padrao)\n",
        "\n",
        "# Encontrando o valor máximo e mínimo\n",
        "maximo = np.max(dados)\n",
        "minimo = np.min(dados)\n",
        "print(\"max:\", maximo)\n",
        "print(\"min:\", maximo)"
      ],
      "metadata": {
        "colab": {
          "base_uri": "https://localhost:8080/"
        },
        "id": "Jb0Pr4Gx9GHI",
        "outputId": "1d661ee6-25cb-4231-e6ee-df1a3f126e0b"
      },
      "execution_count": null,
      "outputs": [
        {
          "output_type": "stream",
          "name": "stdout",
          "text": [
            "media: 16.0\n",
            "desvio padrão 5.079370039680118\n",
            "max: 25\n",
            "min: 25\n"
          ]
        }
      ]
    },
    {
      "cell_type": "markdown",
      "source": [
        "##6. Trabalhando com Matrizes:"
      ],
      "metadata": {
        "id": "s38HV2oV-VLZ"
      }
    },
    {
      "cell_type": "code",
      "source": [
        "# Criando uma matriz de dados\n",
        "matriz = np.array([[1, 2, 3], [4, 5, 6], [7, 8, 9]])\n",
        "\n",
        "# Calculando a soma das colunas e das linhas\n",
        "soma_colunas = np.sum(matriz, axis=0)\n",
        "print(\"soma das colunas:\", soma_colunas)\n",
        "\n",
        "soma_linhas = np.sum(matriz, axis=1)\n",
        "print(\"soma das linhas:\", soma_linhas)\n"
      ],
      "metadata": {
        "colab": {
          "base_uri": "https://localhost:8080/"
        },
        "id": "wwRCbcjn-XBK",
        "outputId": "c4e29837-16dd-4890-c2f5-4b57b60a889e"
      },
      "execution_count": null,
      "outputs": [
        {
          "output_type": "stream",
          "name": "stdout",
          "text": [
            "soma das colunas: [12 15 18]\n",
            "soma das linhas: [ 6 15 24]\n"
          ]
        }
      ]
    },
    {
      "cell_type": "markdown",
      "source": [
        "##7. Operações com Dados Aleatórios:"
      ],
      "metadata": {
        "id": "Dc6gfvbDFpRw"
      }
    },
    {
      "cell_type": "code",
      "source": [
        "# Gerando dados aleatórios\n",
        "dados_aleatorios = np.random.randn(1000)  # 1000 números aleatórios de uma distribuição normal padrão\n",
        "\n",
        "# Calculando a média e o desvio padrão\n",
        "media_aleatoria = np.mean(dados_aleatorios)\n",
        "desvio_padrao_aleatorio = np.std(dados_aleatorios)\n",
        "print(media_aleatoria)\n",
        "print(desvio_padrao_aleatorio)"
      ],
      "metadata": {
        "colab": {
          "base_uri": "https://localhost:8080/"
        },
        "id": "ZXYId43UNT8B",
        "outputId": "34f7cd6d-4395-4226-c0d7-24bb68952233"
      },
      "execution_count": null,
      "outputs": [
        {
          "output_type": "stream",
          "name": "stdout",
          "text": [
            "-0.008152918792340664\n",
            "0.9850603932414146\n"
          ]
        }
      ]
    },
    {
      "cell_type": "markdown",
      "source": [
        "##8. Manipulação de dados"
      ],
      "metadata": {
        "id": "X-ZaQwaGNlVx"
      }
    },
    {
      "cell_type": "code",
      "source": [
        "# Reshape para transformar um array unidimensional em uma matriz\n",
        "arr = np.arange(12)\n",
        "#np.arange([start], stop, [step], dtype=None)\n",
        "print(arr)\n",
        "\n",
        "matriz = arr.reshape(3, 4)\n",
        "\n",
        "# Transposição de uma matriz\n",
        "matriz_transposta = matriz.T\n",
        "print(matriz_transposta)"
      ],
      "metadata": {
        "colab": {
          "base_uri": "https://localhost:8080/"
        },
        "id": "_7kpaJS-NoEC",
        "outputId": "2cb8218f-7f34-4fd7-9e49-aae771c5c4bd"
      },
      "execution_count": null,
      "outputs": [
        {
          "output_type": "stream",
          "name": "stdout",
          "text": [
            "[ 0  1  2  3  4  5  6  7  8  9 10 11]\n",
            "[[ 0  4  8]\n",
            " [ 1  5  9]\n",
            " [ 2  6 10]\n",
            " [ 3  7 11]]\n"
          ]
        }
      ]
    },
    {
      "cell_type": "markdown",
      "source": [
        "##9. Produto Interno (Dot Product):"
      ],
      "metadata": {
        "id": "EtyER2MPNr9j"
      }
    },
    {
      "cell_type": "code",
      "source": [
        "# Produto interno de duas matrizes\n",
        "A = np.array([[1, 2], [3, 4]])\n",
        "B = np.array([[5, 6], [7, 8]])\n",
        "\n",
        "produto_interno = np.dot(A, B)\n",
        "print(produto_interno)"
      ],
      "metadata": {
        "colab": {
          "base_uri": "https://localhost:8080/"
        },
        "id": "66fxKt6CNvNc",
        "outputId": "783eff3d-36f3-44e2-c561-23735371808c"
      },
      "execution_count": null,
      "outputs": [
        {
          "output_type": "stream",
          "name": "stdout",
          "text": [
            "[[19 22]\n",
            " [43 50]]\n"
          ]
        }
      ]
    },
    {
      "cell_type": "markdown",
      "source": [
        "##10.  Indexação Booleana e Filtragem:"
      ],
      "metadata": {
        "id": "mqobSyqmPjAk"
      }
    },
    {
      "cell_type": "code",
      "source": [
        "# Filtrando valores maiores que 10\n",
        "dados = np.array([5, 12, 8, 15, 20, 7])\n",
        "filtro = dados > 10\n",
        "valores_maiores_que_10 = dados[filtro]\n",
        "print(valores_maiores_que_10)"
      ],
      "metadata": {
        "colab": {
          "base_uri": "https://localhost:8080/"
        },
        "id": "ufE--3lIN4y8",
        "outputId": "8c189322-aad2-4583-82cf-064fc229d5de"
      },
      "execution_count": null,
      "outputs": [
        {
          "output_type": "stream",
          "name": "stdout",
          "text": [
            "[12 15 20]\n"
          ]
        }
      ]
    },
    {
      "cell_type": "code",
      "source": [
        "def eh_primo(numero):\n",
        "    for i in range(2, numero):\n",
        "        if numero % i == 0:\n",
        "            return False\n",
        "    return True\n",
        "\n",
        "dados = np.array([5, 12, 8, 15, 20, 7])\n",
        "\n",
        "primos = [numero for numero in dados if eh_primo(numero)]\n",
        "\n",
        "print(primos)\n"
      ],
      "metadata": {
        "colab": {
          "base_uri": "https://localhost:8080/"
        },
        "id": "kM7LVjw6OrJW",
        "outputId": "9a47a678-14d8-4e2d-be1d-94f791806fab"
      },
      "execution_count": null,
      "outputs": [
        {
          "output_type": "stream",
          "name": "stdout",
          "text": [
            "[5, 7]\n"
          ]
        }
      ]
    },
    {
      "cell_type": "code",
      "source": [
        "import numpy as np\n",
        "dados = np.array([5, 12, 8, 15, 20, 7])\n",
        "\n",
        "def eh_primo(dados):\n",
        "    for i in range(1, int(dados ** 0.5) + 1):\n",
        "        if dados % i == 0:\n",
        "            return False\n",
        "    return True\n",
        "\n",
        "print(dados[eh_primo(dados)])\n",
        "\n"
      ],
      "metadata": {
        "colab": {
          "base_uri": "https://localhost:8080/",
          "height": 349
        },
        "id": "WECu6ph_b6JC",
        "outputId": "794a4ec1-3d15-4f50-fe0b-9aca080a7afb"
      },
      "execution_count": null,
      "outputs": [
        {
          "output_type": "error",
          "ename": "TypeError",
          "evalue": "ignored",
          "traceback": [
            "\u001b[0;31m---------------------------------------------------------------------------\u001b[0m",
            "\u001b[0;31mTypeError\u001b[0m                                 Traceback (most recent call last)",
            "\u001b[0;32m<ipython-input-3-90c6caa1681f>\u001b[0m in \u001b[0;36m<cell line: 10>\u001b[0;34m()\u001b[0m\n\u001b[1;32m      8\u001b[0m     \u001b[0;32mreturn\u001b[0m \u001b[0;32mTrue\u001b[0m\u001b[0;34m\u001b[0m\u001b[0;34m\u001b[0m\u001b[0m\n\u001b[1;32m      9\u001b[0m \u001b[0;34m\u001b[0m\u001b[0m\n\u001b[0;32m---> 10\u001b[0;31m \u001b[0mprint\u001b[0m\u001b[0;34m(\u001b[0m\u001b[0mdados\u001b[0m\u001b[0;34m[\u001b[0m\u001b[0meh_primo\u001b[0m\u001b[0;34m(\u001b[0m\u001b[0mdados\u001b[0m\u001b[0;34m)\u001b[0m\u001b[0;34m]\u001b[0m\u001b[0;34m)\u001b[0m\u001b[0;34m\u001b[0m\u001b[0;34m\u001b[0m\u001b[0m\n\u001b[0m\u001b[1;32m     11\u001b[0m \u001b[0;34m\u001b[0m\u001b[0m\n",
            "\u001b[0;32m<ipython-input-3-90c6caa1681f>\u001b[0m in \u001b[0;36meh_primo\u001b[0;34m(dados)\u001b[0m\n\u001b[1;32m      3\u001b[0m \u001b[0;34m\u001b[0m\u001b[0m\n\u001b[1;32m      4\u001b[0m \u001b[0;32mdef\u001b[0m \u001b[0meh_primo\u001b[0m\u001b[0;34m(\u001b[0m\u001b[0mdados\u001b[0m\u001b[0;34m)\u001b[0m\u001b[0;34m:\u001b[0m\u001b[0;34m\u001b[0m\u001b[0;34m\u001b[0m\u001b[0m\n\u001b[0;32m----> 5\u001b[0;31m     \u001b[0;32mfor\u001b[0m \u001b[0mi\u001b[0m \u001b[0;32min\u001b[0m \u001b[0mrange\u001b[0m\u001b[0;34m(\u001b[0m\u001b[0;36m1\u001b[0m\u001b[0;34m,\u001b[0m \u001b[0mint\u001b[0m\u001b[0;34m(\u001b[0m\u001b[0mdados\u001b[0m \u001b[0;34m**\u001b[0m \u001b[0;36m0.5\u001b[0m\u001b[0;34m)\u001b[0m \u001b[0;34m+\u001b[0m \u001b[0;36m1\u001b[0m\u001b[0;34m)\u001b[0m\u001b[0;34m:\u001b[0m\u001b[0;34m\u001b[0m\u001b[0;34m\u001b[0m\u001b[0m\n\u001b[0m\u001b[1;32m      6\u001b[0m         \u001b[0;32mif\u001b[0m \u001b[0mdados\u001b[0m \u001b[0;34m%\u001b[0m \u001b[0mi\u001b[0m \u001b[0;34m==\u001b[0m \u001b[0;36m0\u001b[0m\u001b[0;34m:\u001b[0m\u001b[0;34m\u001b[0m\u001b[0;34m\u001b[0m\u001b[0m\n\u001b[1;32m      7\u001b[0m             \u001b[0;32mreturn\u001b[0m \u001b[0;32mFalse\u001b[0m\u001b[0;34m\u001b[0m\u001b[0;34m\u001b[0m\u001b[0m\n",
            "\u001b[0;31mTypeError\u001b[0m: only size-1 arrays can be converted to Python scalars"
          ]
        }
      ]
    },
    {
      "cell_type": "markdown",
      "source": [
        "##Exemplo com array e matriz"
      ],
      "metadata": {
        "id": "qrAN7cI8Qp_c"
      }
    },
    {
      "cell_type": "code",
      "source": [
        "A = np.array([\n",
        "    ['a', 'b', 'c'],\n",
        "    ['d', 'e', 'f'],\n",
        "    ['g', 'h', 'i']\n",
        "])\n",
        "\n",
        "print(A[:2, :2])"
      ],
      "metadata": {
        "colab": {
          "base_uri": "https://localhost:8080/"
        },
        "id": "tq3__fK7QZqv",
        "outputId": "a5fca0d1-ba4d-41dd-a747-b5469fa1c058"
      },
      "execution_count": null,
      "outputs": [
        {
          "output_type": "stream",
          "name": "stdout",
          "text": [
            "[['a' 'b']\n",
            " ['d' 'e']]\n"
          ]
        }
      ]
    },
    {
      "cell_type": "code",
      "source": [
        "a = np.arange(5)\n",
        "#Após essa linha, a será um array NumPy unidimensional com os valores [0, 1, 2, 3, 4]\n",
        "#Nesta linha, cada elemento do array a é somado a 20.\n",
        "a + 20\n",
        "print(\"matriz:\", a)\n",
        "print(\"matriz somada:\", a + 20)"
      ],
      "metadata": {
        "colab": {
          "base_uri": "https://localhost:8080/"
        },
        "id": "A2uc29scRK3v",
        "outputId": "4a37a314-af33-4b91-edac-b2db5029e3dd"
      },
      "execution_count": null,
      "outputs": [
        {
          "output_type": "stream",
          "name": "stdout",
          "text": [
            "matriz: [0 1 2 3 4]\n",
            "matriz somada: [20 21 22 23 24]\n"
          ]
        }
      ]
    },
    {
      "cell_type": "code",
      "source": [
        "#Numpy Boolean Arrays\n",
        "a = np.arange(5)\n",
        "\n",
        "print(a <= 3)"
      ],
      "metadata": {
        "colab": {
          "base_uri": "https://localhost:8080/"
        },
        "id": "1wXaKkijRL83",
        "outputId": "eb2218ff-9a53-4d40-8712-d909b588e65e"
      },
      "execution_count": null,
      "outputs": [
        {
          "output_type": "stream",
          "name": "stdout",
          "text": [
            "[ True  True  True  True False]\n"
          ]
        }
      ]
    },
    {
      "cell_type": "markdown",
      "source": [
        "## Produto interno"
      ],
      "metadata": {
        "id": "Jk5K1Vz4S1kW"
      }
    },
    {
      "cell_type": "code",
      "source": [
        "import numpy as np\n",
        "\n",
        "# Criando dois arrays\n",
        "arrayA = np.array([1, 2, 3])\n",
        "arrayB = np.array([4, 5, 6])\n",
        "\n",
        "# Calculando o produto interno\n",
        "produto_interno = arrayA.dot(arrayB)\n",
        "\n",
        "print(\"Array A:\", arrayA)\n",
        "print(\"Array B:\", arrayB)\n",
        "print(\"Produto Interno:\", produto_interno)\n"
      ],
      "metadata": {
        "id": "KS38ZgiaRyMw",
        "colab": {
          "base_uri": "https://localhost:8080/"
        },
        "outputId": "852820aa-c8d0-4c9b-f06b-6cb1d6652137"
      },
      "execution_count": null,
      "outputs": [
        {
          "output_type": "stream",
          "name": "stdout",
          "text": [
            "Array A: [1 2 3]\n",
            "Array B: [4 5 6]\n",
            "Produto Interno: 32\n"
          ]
        }
      ]
    },
    {
      "cell_type": "markdown",
      "source": [
        "##Produto interno e transporta"
      ],
      "metadata": {
        "id": "lrxWo9MOTSBw"
      }
    },
    {
      "cell_type": "code",
      "source": [
        "import numpy as np\n",
        "\n",
        "# Criando dois arrays\n",
        "arrayA = np.array([1, 2, 3])\n",
        "arrayB2 = np.array([[4, 5, 6], [7, 8, 9]])\n",
        "\n",
        "# Calculando o produto interno\n",
        "produto_interno1 = arrayA.dot(arrayB2.T)\n",
        "\n",
        "# Transpondo o arrayB\n",
        "transposta_arrayB2 = arrayB2.T\n",
        "\n",
        "print(\"Array A:\", arrayA)\n",
        "print(\"Array B:\", arrayB2)\n",
        "print(\"Produto Interno (arrayA @ transposta_arrayB):\")\n",
        "print(produto_interno1)\n",
        "print(\"Transposta de arrayB (arrayB.T):\")\n",
        "print(transposta_arrayB2)\n",
        "\n"
      ],
      "metadata": {
        "colab": {
          "base_uri": "https://localhost:8080/"
        },
        "id": "rx01tdDWTU3N",
        "outputId": "419c8026-4022-4a8b-f098-66fd10b1c5d3"
      },
      "execution_count": null,
      "outputs": [
        {
          "output_type": "stream",
          "name": "stdout",
          "text": [
            "Array A: [1 2 3]\n",
            "Array B: [[4 5 6]\n",
            " [7 8 9]]\n",
            "Produto Interno (arrayA @ transposta_arrayB):\n",
            "[32 50]\n",
            "Transposta de arrayB (arrayB.T):\n",
            "[[4 7]\n",
            " [5 8]\n",
            " [6 9]]\n"
          ]
        }
      ]
    },
    {
      "cell_type": "markdown",
      "source": [
        "##Algebra and size"
      ],
      "metadata": {
        "id": "d8JMqizmzUqQ"
      }
    },
    {
      "cell_type": "code",
      "source": [
        "l = list(range(1000))\n",
        "a = np.arange(1000)\n",
        "%time np.sum(a ** 2)\n",
        "%time sum([x **2 for x in l])"
      ],
      "metadata": {
        "colab": {
          "base_uri": "https://localhost:8080/"
        },
        "id": "vmjeYVlIzqI3",
        "outputId": "9a0e2dc7-98e0-4257-efec-1d72cc872d5b"
      },
      "execution_count": null,
      "outputs": [
        {
          "output_type": "stream",
          "name": "stdout",
          "text": [
            "CPU times: user 306 µs, sys: 0 ns, total: 306 µs\n",
            "Wall time: 316 µs\n",
            "CPU times: user 484 µs, sys: 0 ns, total: 484 µs\n",
            "Wall time: 494 µs\n"
          ]
        },
        {
          "output_type": "execute_result",
          "data": {
            "text/plain": [
              "332833500"
            ]
          },
          "metadata": {},
          "execution_count": 7
        }
      ]
    },
    {
      "cell_type": "markdown",
      "source": [
        "# PANDAS"
      ],
      "metadata": {
        "id": "ryC0PlsC0s18"
      }
    },
    {
      "cell_type": "code",
      "source": [
        "import pandas as pd\n"
      ],
      "metadata": {
        "id": "z6Uyw69Y00ML"
      },
      "execution_count": null,
      "outputs": []
    },
    {
      "cell_type": "markdown",
      "source": [
        "## Criando um Data-frame"
      ],
      "metadata": {
        "id": "gSxq89Oa1TYN"
      }
    },
    {
      "cell_type": "code",
      "source": [
        "import pandas as pd\n",
        "# Criando um DataFrame a partir de um dicionário\n",
        "data = {'Nome': ['Alice', 'Bob', 'Charlie', 'Peter', 'Margot', 'Pimba'],\n",
        "        'Idade': [25, 30, 35, 40, 60, 90],\n",
        "        'Cidade': ['A', 'B', 'C', 'D', 'E', 'F']}\n",
        "print(\"----DataFrame-----\")\n",
        "df = pd.DataFrame(data)\n",
        "print(df)\n",
        "print(\"------------------\")\n",
        "print(\"----Head----------\")\n",
        "# Visualizando as primeiras linhas do DataFrame\n",
        "print(df.head(1))\n",
        "print(\"------------------\")\n",
        "print(\"----idade---------\")\n",
        "# Selecionando uma coluna\n",
        "idades = df['Idade']\n",
        "print(idades)\n",
        "\n"
      ],
      "metadata": {
        "colab": {
          "base_uri": "https://localhost:8080/"
        },
        "id": "6TpHufDK1TEj",
        "outputId": "79f12e53-18bd-4a31-d3e1-461eda1f05bb"
      },
      "execution_count": null,
      "outputs": [
        {
          "output_type": "stream",
          "name": "stdout",
          "text": [
            "----DataFrame-----\n",
            "      Nome  Idade Cidade\n",
            "0    Alice     25      A\n",
            "1      Bob     30      B\n",
            "2  Charlie     35      C\n",
            "3    Peter     40      D\n",
            "4   Margot     60      E\n",
            "5    Pimba     90      F\n",
            "------------------\n",
            "----Head----------\n",
            "    Nome  Idade Cidade\n",
            "0  Alice     25      A\n",
            "------------------\n",
            "----idade---------\n",
            "0    25\n",
            "1    30\n",
            "2    35\n",
            "3    40\n",
            "4    60\n",
            "5    90\n",
            "Name: Idade, dtype: int64\n"
          ]
        }
      ]
    },
    {
      "cell_type": "markdown",
      "source": [
        "## Carregando dados de um csv"
      ],
      "metadata": {
        "id": "g7PQPAgU1oe9"
      }
    },
    {
      "cell_type": "code",
      "source": [
        "# Carregando um DataFrame a partir de um arquivo CSV\n",
        "df_csv = pd.read_csv('dados.csv')\n"
      ],
      "metadata": {
        "id": "V8Rm9Pcx1rfe"
      },
      "execution_count": null,
      "outputs": []
    },
    {
      "cell_type": "markdown",
      "source": [
        "## filtrando dados"
      ],
      "metadata": {
        "id": "SOw7PZ292UBM"
      }
    },
    {
      "cell_type": "code",
      "source": [
        "# Filtrando dados com base em uma condição\n",
        "maiores_de_30 = df[df['Idade'] > 30]\n",
        "print(maiores_de_30)"
      ],
      "metadata": {
        "colab": {
          "base_uri": "https://localhost:8080/"
        },
        "id": "W4fO-Or52Yq1",
        "outputId": "570d0a2a-56ac-4555-d150-feaa1ef2c5e3"
      },
      "execution_count": null,
      "outputs": [
        {
          "output_type": "stream",
          "name": "stdout",
          "text": [
            "      Nome  Idade Cidade\n",
            "2  Charlie     35      C\n",
            "3    Peter     40      D\n",
            "4   Margot     60      E\n",
            "5    Pimba     90      F\n"
          ]
        }
      ]
    },
    {
      "cell_type": "markdown",
      "source": [
        "## Estatisticas Descritivas"
      ],
      "metadata": {
        "id": "j1-Yp2kr3l4Z"
      }
    },
    {
      "cell_type": "code",
      "source": [
        "# Calculando estatísticas descritivas\n",
        "import pandas as pd\n",
        "\n",
        "data = {'Nome': ['Alice', 'Bob', 'Charlie', 'Peter', 'Margot', 'Pimba'],\n",
        "        'Idade': [25, 30, 35, 40, 60, 90],\n",
        "        'Cidade': ['A', 'B', 'C', 'D', 'E', 'F']}\n",
        "print(\"----DataFrame-----\")\n",
        "df = pd.DataFrame(data)\n",
        "estatisticas = df.describe()\n",
        "print(estatisticas)"
      ],
      "metadata": {
        "colab": {
          "base_uri": "https://localhost:8080/"
        },
        "id": "10xS1pon3aDG",
        "outputId": "37d1b847-7008-4cb3-8316-c4e577a48325"
      },
      "execution_count": null,
      "outputs": [
        {
          "output_type": "stream",
          "name": "stdout",
          "text": [
            "----DataFrame-----\n",
            "           Idade\n",
            "count   6.000000\n",
            "mean   46.666667\n",
            "std    24.426761\n",
            "min    25.000000\n",
            "25%    31.250000\n",
            "50%    37.500000\n",
            "75%    55.000000\n",
            "max    90.000000\n"
          ]
        }
      ]
    },
    {
      "cell_type": "markdown",
      "source": [
        "## Agrupando e agregando dados"
      ],
      "metadata": {
        "id": "oBdZbcRe3xb7"
      }
    },
    {
      "cell_type": "code",
      "source": [
        "# Agrupando por uma coluna e calculando a média\n",
        "media_por_cidade = df.groupby('Cidade')['Idade'].mean()\n",
        "print(media_por_cidade)\n"
      ],
      "metadata": {
        "colab": {
          "base_uri": "https://localhost:8080/"
        },
        "id": "4pEA0nao32IV",
        "outputId": "175d192c-815c-4901-a541-b05a8cfda68c"
      },
      "execution_count": null,
      "outputs": [
        {
          "output_type": "stream",
          "name": "stdout",
          "text": [
            "Cidade\n",
            "A    25.0\n",
            "B    30.0\n",
            "C    35.0\n",
            "D    40.0\n",
            "E    60.0\n",
            "F    90.0\n",
            "Name: Idade, dtype: float64\n"
          ]
        }
      ]
    },
    {
      "cell_type": "markdown",
      "source": [
        "## Adicionando nova coluna"
      ],
      "metadata": {
        "id": "3D0HbArO3_Ur"
      }
    },
    {
      "cell_type": "code",
      "source": [
        "import pandas as pd\n",
        "\n",
        "# Criando um DataFrame de exemplo\n",
        "data = {'Nome': ['Alice', 'Bob', 'Charlie'],\n",
        "        'Idade': [25, 30, 35],\n",
        "        'Cidade': ['A', 'B', 'C']}\n",
        "df = pd.DataFrame(data)\n",
        "print(\"Dataframe:\")\n",
        "print(df)\n",
        "\n",
        "# Adicionando uma nova coluna\n",
        "df['Nova_Coluna'] = df['Idade'] * 2\n",
        "\n",
        "df = df.assign(NovaColuna=0)\n",
        "df['NovaColuna'] += [1, 2, 3]\n",
        "\n",
        "\n",
        "# Imprimindo a nova coluna\n",
        "print(\"Nova Coluna:\")\n",
        "print(df['Nova_Coluna'])\n",
        "\n",
        "# Visualizando o DataFrame com a nova coluna\n",
        "print(\"\\nNovo DataFrame:\")\n",
        "print(df)\n"
      ],
      "metadata": {
        "colab": {
          "base_uri": "https://localhost:8080/"
        },
        "id": "nREH5isI4f0S",
        "outputId": "c0c26132-7006-4661-9a52-debb60801dab"
      },
      "execution_count": null,
      "outputs": [
        {
          "output_type": "stream",
          "name": "stdout",
          "text": [
            "Dataframe:\n",
            "      Nome  Idade Cidade\n",
            "0    Alice     25      A\n",
            "1      Bob     30      B\n",
            "2  Charlie     35      C\n",
            "Nova Coluna:\n",
            "0    50\n",
            "1    60\n",
            "2    70\n",
            "Name: Nova_Coluna, dtype: int64\n",
            "\n",
            "Novo DataFrame:\n",
            "      Nome  Idade Cidade  Nova_Coluna  NovaColuna\n",
            "0    Alice     25      A           50           1\n",
            "1      Bob     30      B           60           2\n",
            "2  Charlie     35      C           70           3\n"
          ]
        }
      ]
    },
    {
      "cell_type": "markdown",
      "source": [
        "## Exemplo de panda series"
      ],
      "metadata": {
        "id": "Wz4CTWNv87b8"
      }
    },
    {
      "cell_type": "code",
      "source": [
        "import pandas as pd\n",
        "\n",
        "certificates_earned = pd.Series(\n",
        "    [8, 2, 5, 6],\n",
        "    index=['Tom', 'Kris', 'Ahmad', 'Beau']\n",
        ")\n",
        "\n",
        "print(certificates_earned)"
      ],
      "metadata": {
        "id": "4p6PUlwT8_fL",
        "outputId": "f42b52b6-9e4d-4392-e146-c00e8b00a284",
        "colab": {
          "base_uri": "https://localhost:8080/"
        }
      },
      "execution_count": null,
      "outputs": [
        {
          "output_type": "stream",
          "name": "stdout",
          "text": [
            "Tom      8\n",
            "Kris     2\n",
            "Ahmad    5\n",
            "Beau     6\n",
            "dtype: int64\n"
          ]
        }
      ]
    },
    {
      "cell_type": "markdown",
      "source": [
        "## Pandas Indexing and Conditional Selection\n",
        "Em Python, o atributo iloc é comumente associado à biblioteca pandas, que é amplamente utilizada para análise de dados e manipulação de conjuntos de dados tabulares. iloc é uma abreviação de \"index location\" e é usado para acessar os elementos de um DataFrame pelo índice numérico, em oposição ao índice baseado em rótulos"
      ],
      "metadata": {
        "id": "_nQjvOEil5Rp"
      }
    },
    {
      "cell_type": "code",
      "source": [
        "import pandas as pd\n",
        "\n",
        "data = {'Nome': ['Alice', 'Bob', 'Charlie', 'David'],\n",
        "        'Idade': [25, 30, 35, 40],\n",
        "        'Salário': [50000, 60000, 75000, 90000]}\n",
        "\n",
        "df = pd.DataFrame(data)\n",
        "print(df)\n",
        "print(\"-------------------------------------------\")\n",
        "\n",
        "#Acessar a primeira linha do DataFrame:\n",
        "primeira_linha = df.iloc[0]\n",
        "print(\"primeira linha:\", primeira_linha)\n",
        "\n",
        "print(\"-------------------------------------------\")\n",
        "\n",
        "#Acessar o valor da segunda linha e da coluna 'Idade':\n",
        "idade_bob = df.iloc[1]['Idade']\n",
        "print(\"idade do bob:\", idade_bob)\n",
        "print(\"-------------------------------------------\")\n",
        "\n",
        "#Acessar um subconjunto do DataFrame (por exemplo, linhas de 1 a 2 e colunas de 0 a 1):\n",
        "subset = df.iloc[1:3, 0:2]\n",
        "print(subset)\n",
        "print()\n",
        "print(\"-------------------------------------------\")\n",
        "#df['Alice'] = 22\n",
        "#df.iloc[-1] = 660 só  daria  assim se fosse uumam sserie\n",
        "print(df)\n",
        "print(\"-------------------------------------------\")\n",
        "#3Modificar um elemento específico usando iloc e índices numéricos:\n",
        "# Modificar a idade de Bob para 31\n",
        "df.iloc[1, df.columns.get_loc('Idade')] = 31\n",
        "print(df)\n",
        "print(\"-------------------------------------------\")\n",
        "#Modificar um elemento específico usando rótulos de coluna:\n",
        "# Modificar o salário de Alice para 55000\n",
        "df.at[0, 'Salário'] = 55000\n",
        "print(df)\n",
        "#O método at permite modificar um único valor com base em rótulos de linha e coluna.\n",
        "print(\"-------------------------------------------\")\n",
        "#Modificar vários elementos simultaneamente:\n",
        "# Modificar as idades de Charlie e David\n",
        "df.loc[df['Nome'].isin(['Charlie', 'David']), 'Idade'] = [36, 41]\n",
        "print(df)"
      ],
      "metadata": {
        "colab": {
          "base_uri": "https://localhost:8080/"
        },
        "id": "4LRtmdu8l46T",
        "outputId": "8c9b4a83-2f81-4271-9acb-7507c6c45ee1"
      },
      "execution_count": null,
      "outputs": [
        {
          "output_type": "stream",
          "name": "stdout",
          "text": [
            "      Nome  Idade  Salário\n",
            "0    Alice     25    50000\n",
            "1      Bob     30    60000\n",
            "2  Charlie     35    75000\n",
            "3    David     40    90000\n",
            "-------------------------------------------\n",
            "primeira linha: Nome       Alice\n",
            "Idade         25\n",
            "Salário    50000\n",
            "Name: 0, dtype: object\n",
            "-------------------------------------------\n",
            "idade do bob: 30\n",
            "-------------------------------------------\n",
            "      Nome  Idade\n",
            "1      Bob     30\n",
            "2  Charlie     35\n",
            "\n",
            "-------------------------------------------\n",
            "      Nome  Idade  Salário\n",
            "0    Alice     25    50000\n",
            "1      Bob     30    60000\n",
            "2  Charlie     35    75000\n",
            "3    David     40    90000\n",
            "-------------------------------------------\n",
            "      Nome  Idade  Salário\n",
            "0    Alice     25    50000\n",
            "1      Bob     31    60000\n",
            "2  Charlie     35    75000\n",
            "3    David     40    90000\n",
            "-------------------------------------------\n",
            "      Nome  Idade  Salário\n",
            "0    Alice     25    55000\n",
            "1      Bob     31    60000\n",
            "2  Charlie     35    75000\n",
            "3    David     40    90000\n",
            "-------------------------------------------\n",
            "      Nome  Idade  Salário\n",
            "0    Alice     25    55000\n",
            "1      Bob     31    60000\n",
            "2  Charlie     36    75000\n",
            "3    David     41    90000\n"
          ]
        }
      ]
    },
    {
      "cell_type": "code",
      "source": [
        "import pandas as pd\n",
        "\n",
        "certificates_earned = pd.Series(\n",
        "    [8, 2, 5, 6],\n",
        "    index=['Tom', 'Kris', 'Ahmad', 'Beau']\n",
        ")\n",
        "certificates_earned.iloc[-1] = 660\n",
        "print(certificates_earned[certificates_earned > 5])\n",
        "\n",
        "\n"
      ],
      "metadata": {
        "colab": {
          "base_uri": "https://localhost:8080/"
        },
        "id": "bgXnkZHLolqe",
        "outputId": "ab0d518a-1dc0-4703-c9c1-2f1775d49da9"
      },
      "execution_count": null,
      "outputs": [
        {
          "output_type": "stream",
          "name": "stdout",
          "text": [
            "Tom       8\n",
            "Beau    660\n",
            "dtype: int64\n"
          ]
        }
      ]
    },
    {
      "cell_type": "markdown",
      "source": [
        "## Panda DataFrames"
      ],
      "metadata": {
        "id": "CWHjQc8Pq7YG"
      }
    },
    {
      "cell_type": "code",
      "source": [
        "import pandas as pd\n",
        "\n",
        "certificates_earned = pd.DataFrame({\n",
        "    'Certificates': [8, 2, 5, 6],\n",
        "    'Time (in months)': [16, 5, 9, 12]\n",
        "})\n",
        "\n",
        "certificates_earned.index = ['Tom', 'Kris', 'Ahmad', 'Beau']\n",
        "\n",
        "print(certificates_earned.iloc[2])"
      ],
      "metadata": {
        "colab": {
          "base_uri": "https://localhost:8080/"
        },
        "id": "4aKC-ZUIr2qr",
        "outputId": "d736d672-c7f5-439d-fdb2-b1630f2f7434"
      },
      "execution_count": null,
      "outputs": [
        {
          "output_type": "stream",
          "name": "stdout",
          "text": [
            "Certificates        5\n",
            "Time (in months)    9\n",
            "Name: Ahmad, dtype: int64\n"
          ]
        }
      ]
    },
    {
      "cell_type": "code",
      "source": [
        "dataframe.columns\n",
        "dataframe.index\n",
        "dataframe.info()\n",
        "dataframe.size\n",
        "dataframe.shape\n",
        "dataframe.describe()\n",
        "dataframe.dtypes\n",
        "dataframe.value_counts()\n",
        "\n",
        "fala tambem sobre indexing, selection e slicing esse dataframe"
      ],
      "metadata": {
        "id": "A4OHhNDiCMvz"
      },
      "execution_count": null,
      "outputs": []
    },
    {
      "cell_type": "code",
      "source": [
        "import pandas as pd\n",
        "\n",
        "# Criando um DataFrame com dados fictícios\n",
        "dados = {'Nome': ['Alice', 'Bob', 'Charlie', 'David'],\n",
        "         'Idade': [25, 30, 35, 40],\n",
        "         'Cidade': ['Rio de Janeiro', 'São Paulo', 'Belo Horizonte', 'Brasília'],\n",
        "         'Salário': [50000, 60000, 75000, 90000]}\n",
        "\n",
        "df = pd.DataFrame(dados)\n",
        "\n",
        "# Exibindo o DataFrame\n",
        "print(\"DataFrame original:\")\n",
        "print(df)\n",
        "print(\"----------------------------------------------------------------\")\n",
        "\n",
        "# Métodos e conceitos:\n",
        "\n",
        "# dataframe.columns\n",
        "print(\"Colunas do DataFrame:\")\n",
        "print(df.columns)\n",
        "print()\n",
        "print(\"----------------------------------------------------------------\")\n",
        "\n",
        "# dataframe.index\n",
        "print(\"Índices das linhas do DataFrame:\")\n",
        "print(df.index)\n",
        "print()\n",
        "print(\"----------------------------------------------------------------\")\n",
        "# dataframe.info()\n",
        "print(\"Informações sobre o DataFrame:\")\n",
        "df.info()\n",
        "print()\n",
        "print(\"----------------------------------------------------------------\")\n",
        "\n",
        "# dataframe.size\n",
        "print(\"Tamanho total do DataFrame:\")\n",
        "print(df.size)\n",
        "print()\n",
        "print(\"----------------------------------------------------------------\")\n",
        "\n",
        "# dataframe.shape\n",
        "print(\"Dimensões do DataFrame (linhas, colunas):\")\n",
        "print(df.shape)\n",
        "print()\n",
        "print(\"----------------------------------------------------------------\")\n",
        "\n",
        "# dataframe.describe()\n",
        "print(\"Estatísticas descritivas do DataFrame:\")\n",
        "print(df.describe())\n",
        "print()\n",
        "print(\"----------------------------------------------------------------\")\n",
        "\n",
        "# dataframe.dtypes\n",
        "print(\"Tipos de dados das colunas do DataFrame:\")\n",
        "print(df.dtypes)\n",
        "print()\n",
        "print(\"----------------------------------------------------------------\")\n",
        "# dataframe.value_counts()\n",
        "print(\"Contagem de valores únicos na coluna 'Cidade':\")\n",
        "print(df['Cidade'].value_counts())\n",
        "print()\n",
        "print(\"----------------------------------------------------------------\")\n",
        "\n",
        "# Indexing, Selection e Slicing:\n",
        "\n",
        "# Indexing\n",
        "print(\"Selecionando a coluna 'Idade' por rótulo de coluna:\")\n",
        "idade = df['Idade']\n",
        "print(idade)\n",
        "print()\n",
        "print(\"----------------------------------------------------------------\")\n",
        "\n",
        "# Selection\n",
        "print(\"Selecionando pessoas com salário superior a 70000:\")\n",
        "pessoas_salario_alto = df[df['Salário'] > 70000]\n",
        "print(pessoas_salario_alto)\n",
        "print()\n",
        "print(\"----------------------------------------------------------------\")\n",
        "# Slicing\n",
        "print(\"Slicing de linhas (índices 1 a 2):\")\n",
        "intervalo_linhas = df[1:3]\n",
        "print(intervalo_linhas)\n",
        "print()\n",
        "print(\"----------------------------------------------------------------\")\n",
        "\n",
        "print(\"Slicing de colunas ('Nome' e 'Idade'):\")\n",
        "colunas_selecionadas = df[['Nome', 'Idade']]\n",
        "print(colunas_selecionadas)\n",
        "print(\"----------------------------------------------------------------\")"
      ],
      "metadata": {
        "colab": {
          "base_uri": "https://localhost:8080/"
        },
        "id": "5Ea5YAROEzsI",
        "outputId": "29930b32-1f46-4908-b6fc-1dac7f86d3ab"
      },
      "execution_count": null,
      "outputs": [
        {
          "output_type": "stream",
          "name": "stdout",
          "text": [
            "DataFrame original:\n",
            "      Nome  Idade          Cidade  Salário\n",
            "0    Alice     25  Rio de Janeiro    50000\n",
            "1      Bob     30       São Paulo    60000\n",
            "2  Charlie     35  Belo Horizonte    75000\n",
            "3    David     40        Brasília    90000\n",
            "----------------------------------------------------------------\n",
            "Colunas do DataFrame:\n",
            "Index(['Nome', 'Idade', 'Cidade', 'Salário'], dtype='object')\n",
            "\n",
            "----------------------------------------------------------------\n",
            "Índices das linhas do DataFrame:\n",
            "RangeIndex(start=0, stop=4, step=1)\n",
            "\n",
            "----------------------------------------------------------------\n",
            "Informações sobre o DataFrame:\n",
            "<class 'pandas.core.frame.DataFrame'>\n",
            "RangeIndex: 4 entries, 0 to 3\n",
            "Data columns (total 4 columns):\n",
            " #   Column   Non-Null Count  Dtype \n",
            "---  ------   --------------  ----- \n",
            " 0   Nome     4 non-null      object\n",
            " 1   Idade    4 non-null      int64 \n",
            " 2   Cidade   4 non-null      object\n",
            " 3   Salário  4 non-null      int64 \n",
            "dtypes: int64(2), object(2)\n",
            "memory usage: 256.0+ bytes\n",
            "\n",
            "----------------------------------------------------------------\n",
            "Tamanho total do DataFrame:\n",
            "16\n",
            "\n",
            "----------------------------------------------------------------\n",
            "Dimensões do DataFrame (linhas, colunas):\n",
            "(4, 4)\n",
            "\n",
            "----------------------------------------------------------------\n",
            "Estatísticas descritivas do DataFrame:\n",
            "           Idade  Salário\n",
            "count   4.000000      4.0\n",
            "mean   32.500000  68750.0\n",
            "std     6.454972  17500.0\n",
            "min    25.000000  50000.0\n",
            "25%    28.750000  57500.0\n",
            "50%    32.500000  67500.0\n",
            "75%    36.250000  78750.0\n",
            "max    40.000000  90000.0\n",
            "\n",
            "----------------------------------------------------------------\n",
            "Tipos de dados das colunas do DataFrame:\n",
            "Nome       object\n",
            "Idade       int64\n",
            "Cidade     object\n",
            "Salário     int64\n",
            "dtype: object\n",
            "\n",
            "----------------------------------------------------------------\n",
            "Contagem de valores únicos na coluna 'Cidade':\n",
            "Rio de Janeiro    1\n",
            "São Paulo         1\n",
            "Belo Horizonte    1\n",
            "Brasília          1\n",
            "Name: Cidade, dtype: int64\n",
            "\n",
            "----------------------------------------------------------------\n",
            "Selecionando a coluna 'Idade' por rótulo de coluna:\n",
            "0    25\n",
            "1    30\n",
            "2    35\n",
            "3    40\n",
            "Name: Idade, dtype: int64\n",
            "\n",
            "----------------------------------------------------------------\n",
            "Selecionando pessoas com salário superior a 70000:\n",
            "      Nome  Idade          Cidade  Salário\n",
            "2  Charlie     35  Belo Horizonte    75000\n",
            "3    David     40        Brasília    90000\n",
            "\n",
            "----------------------------------------------------------------\n",
            "Slicing de linhas (índices 1 a 2):\n",
            "      Nome  Idade          Cidade  Salário\n",
            "1      Bob     30       São Paulo    60000\n",
            "2  Charlie     35  Belo Horizonte    75000\n",
            "\n",
            "----------------------------------------------------------------\n",
            "Slicing de colunas ('Nome' e 'Idade'):\n",
            "      Nome  Idade\n",
            "0    Alice     25\n",
            "1      Bob     30\n",
            "2  Charlie     35\n",
            "3    David     40\n",
            "----------------------------------------------------------------\n"
          ]
        }
      ]
    },
    {
      "cell_type": "code",
      "source": [
        "import pandas as pd\n",
        "\n",
        "certificates_earned = pd.DataFrame({\n",
        "    'Certificates': [8, 2, 5, 6],\n",
        "    'Time (in months)': [16, 5, 9, 12]\n",
        "})\n",
        "names = ['Tom', 'Kris', 'Ahmad', 'Beau']\n",
        "\n",
        "certificates_earned.index = names\n",
        "longest_streak = pd.Series([13, 11, 9, 7], index=names)\n",
        "certificates_earned['Longest streak'] = longest_streak\n",
        "\n",
        "print(certificates_earned)\n",
        "\n",
        "#realizar operações com as colunas do dataframe\n"
      ],
      "metadata": {
        "colab": {
          "base_uri": "https://localhost:8080/"
        },
        "id": "9ZK4MdYqGHUh",
        "outputId": "89159ac9-22db-4766-a668-5c87834b7785"
      },
      "execution_count": null,
      "outputs": [
        {
          "output_type": "stream",
          "name": "stdout",
          "text": [
            "       Certificates  Time (in months)  Longest streak\n",
            "Tom               8                16              13\n",
            "Kris              2                 5              11\n",
            "Ahmad             5                 9               9\n",
            "Beau              6                12               7\n"
          ]
        }
      ]
    },
    {
      "cell_type": "markdown",
      "source": [
        "## Seleção condicional Pandas e modificação de dataframes"
      ],
      "metadata": {
        "id": "FC9LWwuEGNSX"
      }
    },
    {
      "cell_type": "code",
      "source": [
        "import pandas as pd\n",
        "\n",
        "# Criando um DataFrame com dados fictícios\n",
        "dados = {'Nome': ['Alice', 'Bob', 'Charlie', 'David'],\n",
        "         'Idade': [25, 30, 35, 40],\n",
        "         'Cidade': ['Rio de Janeiro', 'São Paulo', 'Belo Horizonte', 'Brasília'],\n",
        "         'Salário': [50000, 60000, 75000, 90000]}\n",
        "\n",
        "df = pd.DataFrame(dados)\n",
        "\n",
        "# Exibindo o DataFrame original\n",
        "print(\"DataFrame original:\")\n",
        "print(df)\n",
        "print()\n",
        "\n",
        "# Seleção condicional com base em uma condição específica\n",
        "print(\"Selecionando pessoas com idade superior a 30 anos:\")\n",
        "selecao_idade = df[df['Idade'] > 30]\n",
        "print(selecao_idade)\n",
        "print()\n",
        "\n",
        "# Seleção condicional com base em múltiplas condições\n",
        "print(\"Selecionando pessoas em São Paulo com salário superior a 60000:\")\n",
        "selecao_multipla = df[(df['Cidade'] == 'São Paulo') & (df['Salário'] > 60000)]\n",
        "print(selecao_multipla)\n",
        "print()\n",
        "\n",
        "# Modificando valores em uma coluna com base em uma condição\n",
        "print(\"Aumentando o salário das pessoas com idade superior a 30 anos em 10%:\")\n",
        "df.loc[df['Idade'] > 30, 'Salário'] *= 1.1\n",
        "print(df)\n",
        "print()\n",
        "\n",
        "# Adicionando uma nova coluna ao DataFrame\n",
        "df['Bônus'] = [2000, 2500, 3000, 3500]\n",
        "print(\"Adicionando uma coluna 'Bônus' ao DataFrame:\")\n",
        "print(df)\n",
        "print()\n",
        "\n",
        "# Excluindo uma coluna do DataFrame\n",
        "df = df.drop('Bônus', axis=1)\n",
        "print(\"Removendo a coluna 'Bônus' do DataFrame:\")\n",
        "print(df)\n",
        "\n",
        "# Excluindo linhas\n",
        "df = df.drop(2)\n",
        "print(df)\n",
        "\n",
        "#================= realizando as mesmas operações mas com o loc=========\n",
        "# Seleção condicional usando loc\n",
        "print(\"Selecionando pessoas com idade superior a 30 anos:\")\n",
        "selecao_idade = df.loc[df['Idade'] > 30]\n",
        "print(selecao_idade)\n",
        "print()\n",
        "\n",
        "# Seleção condicional com múltiplas condições usando loc\n",
        "print(\"Selecionando pessoas em São Paulo com salário superior a 60000:\")\n",
        "selecao_multipla = df.loc[(df['Cidade'] == 'São Paulo') & (df['Salário'] > 60000)]\n",
        "print(selecao_multipla)\n",
        "print()\n",
        "\n",
        "# Modificando valores em uma coluna com base em uma condição usando loc\n",
        "print(\"Aumentando o salário das pessoas com idade superior a 30 anos em 10%:\")\n",
        "df.loc[df['Idade'] > 30, 'Salário'] *= 1.1\n",
        "print(df)\n",
        "print()\n",
        "\n",
        "# Adicionando uma nova coluna ao DataFrame usando loc\n",
        "df.loc[:, 'Bônus'] = [2000, 2500, 3000, 3500]\n",
        "print(\"Adicionando uma coluna 'Bônus' ao DataFrame:\")\n",
        "print(df)\n",
        "print()\n",
        "\n",
        "# Excluindo uma coluna do DataFrame usando loc\n",
        "df = df.drop('Bônus', axis=1)\n",
        "print(\"Removendo a coluna 'Bônus' do DataFrame:\")\n",
        "print(df)\n",
        "\n",
        "print(df.plot())\n",
        "#--------------------------------------------\n",
        "#pesquisar sobre operações com series, substituindo valore por coluna, renomeando colunas"
      ],
      "metadata": {
        "id": "gM3YwqVlGqvH",
        "colab": {
          "base_uri": "https://localhost:8080/",
          "height": 1000
        },
        "outputId": "ada7badb-fda0-404a-8a8c-a262b31bc91d"
      },
      "execution_count": null,
      "outputs": [
        {
          "output_type": "stream",
          "name": "stdout",
          "text": [
            "DataFrame original:\n",
            "      Nome  Idade          Cidade  Salário\n",
            "0    Alice     25  Rio de Janeiro    50000\n",
            "1      Bob     30       São Paulo    60000\n",
            "2  Charlie     35  Belo Horizonte    75000\n",
            "3    David     40        Brasília    90000\n",
            "\n",
            "Selecionando pessoas com idade superior a 30 anos:\n",
            "      Nome  Idade          Cidade  Salário\n",
            "2  Charlie     35  Belo Horizonte    75000\n",
            "3    David     40        Brasília    90000\n",
            "\n",
            "Selecionando pessoas em São Paulo com salário superior a 60000:\n",
            "Empty DataFrame\n",
            "Columns: [Nome, Idade, Cidade, Salário]\n",
            "Index: []\n",
            "\n",
            "Aumentando o salário das pessoas com idade superior a 30 anos em 10%:\n",
            "      Nome  Idade          Cidade  Salário\n",
            "0    Alice     25  Rio de Janeiro  50000.0\n",
            "1      Bob     30       São Paulo  60000.0\n",
            "2  Charlie     35  Belo Horizonte  82500.0\n",
            "3    David     40        Brasília  99000.0\n",
            "\n",
            "Adicionando uma coluna 'Bônus' ao DataFrame:\n",
            "      Nome  Idade          Cidade  Salário  Bônus\n",
            "0    Alice     25  Rio de Janeiro  50000.0   2000\n",
            "1      Bob     30       São Paulo  60000.0   2500\n",
            "2  Charlie     35  Belo Horizonte  82500.0   3000\n",
            "3    David     40        Brasília  99000.0   3500\n",
            "\n",
            "Removendo a coluna 'Bônus' do DataFrame:\n",
            "      Nome  Idade          Cidade  Salário\n",
            "0    Alice     25  Rio de Janeiro  50000.0\n",
            "1      Bob     30       São Paulo  60000.0\n",
            "2  Charlie     35  Belo Horizonte  82500.0\n",
            "3    David     40        Brasília  99000.0\n",
            "    Nome  Idade          Cidade  Salário\n",
            "0  Alice     25  Rio de Janeiro  50000.0\n",
            "1    Bob     30       São Paulo  60000.0\n",
            "3  David     40        Brasília  99000.0\n",
            "Selecionando pessoas com idade superior a 30 anos:\n",
            "    Nome  Idade    Cidade  Salário\n",
            "3  David     40  Brasília  99000.0\n",
            "\n",
            "Selecionando pessoas em São Paulo com salário superior a 60000:\n",
            "Empty DataFrame\n",
            "Columns: [Nome, Idade, Cidade, Salário]\n",
            "Index: []\n",
            "\n",
            "Aumentando o salário das pessoas com idade superior a 30 anos em 10%:\n",
            "    Nome  Idade          Cidade   Salário\n",
            "0  Alice     25  Rio de Janeiro   50000.0\n",
            "1    Bob     30       São Paulo   60000.0\n",
            "3  David     40        Brasília  108900.0\n",
            "\n"
          ]
        },
        {
          "output_type": "error",
          "ename": "ValueError",
          "evalue": "ignored",
          "traceback": [
            "\u001b[0;31m---------------------------------------------------------------------------\u001b[0m",
            "\u001b[0;31mValueError\u001b[0m                                Traceback (most recent call last)",
            "\u001b[0;32m<ipython-input-1-fbea6b85d778>\u001b[0m in \u001b[0;36m<cell line: 69>\u001b[0;34m()\u001b[0m\n\u001b[1;32m     67\u001b[0m \u001b[0;34m\u001b[0m\u001b[0m\n\u001b[1;32m     68\u001b[0m \u001b[0;31m# Adicionando uma nova coluna ao DataFrame usando loc\u001b[0m\u001b[0;34m\u001b[0m\u001b[0;34m\u001b[0m\u001b[0m\n\u001b[0;32m---> 69\u001b[0;31m \u001b[0mdf\u001b[0m\u001b[0;34m.\u001b[0m\u001b[0mloc\u001b[0m\u001b[0;34m[\u001b[0m\u001b[0;34m:\u001b[0m\u001b[0;34m,\u001b[0m \u001b[0;34m'Bônus'\u001b[0m\u001b[0;34m]\u001b[0m \u001b[0;34m=\u001b[0m \u001b[0;34m[\u001b[0m\u001b[0;36m2000\u001b[0m\u001b[0;34m,\u001b[0m \u001b[0;36m2500\u001b[0m\u001b[0;34m,\u001b[0m \u001b[0;36m3000\u001b[0m\u001b[0;34m,\u001b[0m \u001b[0;36m3500\u001b[0m\u001b[0;34m]\u001b[0m\u001b[0;34m\u001b[0m\u001b[0;34m\u001b[0m\u001b[0m\n\u001b[0m\u001b[1;32m     70\u001b[0m \u001b[0mprint\u001b[0m\u001b[0;34m(\u001b[0m\u001b[0;34m\"Adicionando uma coluna 'Bônus' ao DataFrame:\"\u001b[0m\u001b[0;34m)\u001b[0m\u001b[0;34m\u001b[0m\u001b[0;34m\u001b[0m\u001b[0m\n\u001b[1;32m     71\u001b[0m \u001b[0mprint\u001b[0m\u001b[0;34m(\u001b[0m\u001b[0mdf\u001b[0m\u001b[0;34m)\u001b[0m\u001b[0;34m\u001b[0m\u001b[0;34m\u001b[0m\u001b[0m\n",
            "\u001b[0;32m/usr/local/lib/python3.10/dist-packages/pandas/core/indexing.py\u001b[0m in \u001b[0;36m__setitem__\u001b[0;34m(self, key, value)\u001b[0m\n\u001b[1;32m    816\u001b[0m \u001b[0;34m\u001b[0m\u001b[0m\n\u001b[1;32m    817\u001b[0m         \u001b[0miloc\u001b[0m \u001b[0;34m=\u001b[0m \u001b[0mself\u001b[0m \u001b[0;32mif\u001b[0m \u001b[0mself\u001b[0m\u001b[0;34m.\u001b[0m\u001b[0mname\u001b[0m \u001b[0;34m==\u001b[0m \u001b[0;34m\"iloc\"\u001b[0m \u001b[0;32melse\u001b[0m \u001b[0mself\u001b[0m\u001b[0;34m.\u001b[0m\u001b[0mobj\u001b[0m\u001b[0;34m.\u001b[0m\u001b[0miloc\u001b[0m\u001b[0;34m\u001b[0m\u001b[0;34m\u001b[0m\u001b[0m\n\u001b[0;32m--> 818\u001b[0;31m         \u001b[0miloc\u001b[0m\u001b[0;34m.\u001b[0m\u001b[0m_setitem_with_indexer\u001b[0m\u001b[0;34m(\u001b[0m\u001b[0mindexer\u001b[0m\u001b[0;34m,\u001b[0m \u001b[0mvalue\u001b[0m\u001b[0;34m,\u001b[0m \u001b[0mself\u001b[0m\u001b[0;34m.\u001b[0m\u001b[0mname\u001b[0m\u001b[0;34m)\u001b[0m\u001b[0;34m\u001b[0m\u001b[0;34m\u001b[0m\u001b[0m\n\u001b[0m\u001b[1;32m    819\u001b[0m \u001b[0;34m\u001b[0m\u001b[0m\n\u001b[1;32m    820\u001b[0m     \u001b[0;32mdef\u001b[0m \u001b[0m_validate_key\u001b[0m\u001b[0;34m(\u001b[0m\u001b[0mself\u001b[0m\u001b[0;34m,\u001b[0m \u001b[0mkey\u001b[0m\u001b[0;34m,\u001b[0m \u001b[0maxis\u001b[0m\u001b[0;34m:\u001b[0m \u001b[0mint\u001b[0m\u001b[0;34m)\u001b[0m\u001b[0;34m:\u001b[0m\u001b[0;34m\u001b[0m\u001b[0;34m\u001b[0m\u001b[0m\n",
            "\u001b[0;32m/usr/local/lib/python3.10/dist-packages/pandas/core/indexing.py\u001b[0m in \u001b[0;36m_setitem_with_indexer\u001b[0;34m(self, indexer, value, name)\u001b[0m\n\u001b[1;32m   1726\u001b[0m                         \u001b[0;32mif\u001b[0m \u001b[0mcom\u001b[0m\u001b[0;34m.\u001b[0m\u001b[0mis_null_slice\u001b[0m\u001b[0;34m(\u001b[0m\u001b[0mindexer\u001b[0m\u001b[0;34m[\u001b[0m\u001b[0;36m0\u001b[0m\u001b[0;34m]\u001b[0m\u001b[0;34m)\u001b[0m\u001b[0;34m:\u001b[0m\u001b[0;34m\u001b[0m\u001b[0;34m\u001b[0m\u001b[0m\n\u001b[1;32m   1727\u001b[0m                             \u001b[0;31m# We are setting an entire column\u001b[0m\u001b[0;34m\u001b[0m\u001b[0;34m\u001b[0m\u001b[0m\n\u001b[0;32m-> 1728\u001b[0;31m                             \u001b[0mself\u001b[0m\u001b[0;34m.\u001b[0m\u001b[0mobj\u001b[0m\u001b[0;34m[\u001b[0m\u001b[0mkey\u001b[0m\u001b[0;34m]\u001b[0m \u001b[0;34m=\u001b[0m \u001b[0mvalue\u001b[0m\u001b[0;34m\u001b[0m\u001b[0;34m\u001b[0m\u001b[0m\n\u001b[0m\u001b[1;32m   1729\u001b[0m                             \u001b[0;32mreturn\u001b[0m\u001b[0;34m\u001b[0m\u001b[0;34m\u001b[0m\u001b[0m\n\u001b[1;32m   1730\u001b[0m                         \u001b[0;32melif\u001b[0m \u001b[0mis_array_like\u001b[0m\u001b[0;34m(\u001b[0m\u001b[0mvalue\u001b[0m\u001b[0;34m)\u001b[0m\u001b[0;34m:\u001b[0m\u001b[0;34m\u001b[0m\u001b[0;34m\u001b[0m\u001b[0m\n",
            "\u001b[0;32m/usr/local/lib/python3.10/dist-packages/pandas/core/frame.py\u001b[0m in \u001b[0;36m__setitem__\u001b[0;34m(self, key, value)\u001b[0m\n\u001b[1;32m   3978\u001b[0m         \u001b[0;32melse\u001b[0m\u001b[0;34m:\u001b[0m\u001b[0;34m\u001b[0m\u001b[0;34m\u001b[0m\u001b[0m\n\u001b[1;32m   3979\u001b[0m             \u001b[0;31m# set column\u001b[0m\u001b[0;34m\u001b[0m\u001b[0;34m\u001b[0m\u001b[0m\n\u001b[0;32m-> 3980\u001b[0;31m             \u001b[0mself\u001b[0m\u001b[0;34m.\u001b[0m\u001b[0m_set_item\u001b[0m\u001b[0;34m(\u001b[0m\u001b[0mkey\u001b[0m\u001b[0;34m,\u001b[0m \u001b[0mvalue\u001b[0m\u001b[0;34m)\u001b[0m\u001b[0;34m\u001b[0m\u001b[0;34m\u001b[0m\u001b[0m\n\u001b[0m\u001b[1;32m   3981\u001b[0m \u001b[0;34m\u001b[0m\u001b[0m\n\u001b[1;32m   3982\u001b[0m     \u001b[0;32mdef\u001b[0m \u001b[0m_setitem_slice\u001b[0m\u001b[0;34m(\u001b[0m\u001b[0mself\u001b[0m\u001b[0;34m,\u001b[0m \u001b[0mkey\u001b[0m\u001b[0;34m:\u001b[0m \u001b[0mslice\u001b[0m\u001b[0;34m,\u001b[0m \u001b[0mvalue\u001b[0m\u001b[0;34m)\u001b[0m\u001b[0;34m:\u001b[0m\u001b[0;34m\u001b[0m\u001b[0;34m\u001b[0m\u001b[0m\n",
            "\u001b[0;32m/usr/local/lib/python3.10/dist-packages/pandas/core/frame.py\u001b[0m in \u001b[0;36m_set_item\u001b[0;34m(self, key, value)\u001b[0m\n\u001b[1;32m   4172\u001b[0m         \u001b[0mensure\u001b[0m \u001b[0mhomogeneity\u001b[0m\u001b[0;34m.\u001b[0m\u001b[0;34m\u001b[0m\u001b[0;34m\u001b[0m\u001b[0m\n\u001b[1;32m   4173\u001b[0m         \"\"\"\n\u001b[0;32m-> 4174\u001b[0;31m         \u001b[0mvalue\u001b[0m \u001b[0;34m=\u001b[0m \u001b[0mself\u001b[0m\u001b[0;34m.\u001b[0m\u001b[0m_sanitize_column\u001b[0m\u001b[0;34m(\u001b[0m\u001b[0mvalue\u001b[0m\u001b[0;34m)\u001b[0m\u001b[0;34m\u001b[0m\u001b[0;34m\u001b[0m\u001b[0m\n\u001b[0m\u001b[1;32m   4175\u001b[0m \u001b[0;34m\u001b[0m\u001b[0m\n\u001b[1;32m   4176\u001b[0m         if (\n",
            "\u001b[0;32m/usr/local/lib/python3.10/dist-packages/pandas/core/frame.py\u001b[0m in \u001b[0;36m_sanitize_column\u001b[0;34m(self, value)\u001b[0m\n\u001b[1;32m   4913\u001b[0m \u001b[0;34m\u001b[0m\u001b[0m\n\u001b[1;32m   4914\u001b[0m         \u001b[0;32mif\u001b[0m \u001b[0mis_list_like\u001b[0m\u001b[0;34m(\u001b[0m\u001b[0mvalue\u001b[0m\u001b[0;34m)\u001b[0m\u001b[0;34m:\u001b[0m\u001b[0;34m\u001b[0m\u001b[0;34m\u001b[0m\u001b[0m\n\u001b[0;32m-> 4915\u001b[0;31m             \u001b[0mcom\u001b[0m\u001b[0;34m.\u001b[0m\u001b[0mrequire_length_match\u001b[0m\u001b[0;34m(\u001b[0m\u001b[0mvalue\u001b[0m\u001b[0;34m,\u001b[0m \u001b[0mself\u001b[0m\u001b[0;34m.\u001b[0m\u001b[0mindex\u001b[0m\u001b[0;34m)\u001b[0m\u001b[0;34m\u001b[0m\u001b[0;34m\u001b[0m\u001b[0m\n\u001b[0m\u001b[1;32m   4916\u001b[0m         \u001b[0;32mreturn\u001b[0m \u001b[0msanitize_array\u001b[0m\u001b[0;34m(\u001b[0m\u001b[0mvalue\u001b[0m\u001b[0;34m,\u001b[0m \u001b[0mself\u001b[0m\u001b[0;34m.\u001b[0m\u001b[0mindex\u001b[0m\u001b[0;34m,\u001b[0m \u001b[0mcopy\u001b[0m\u001b[0;34m=\u001b[0m\u001b[0;32mTrue\u001b[0m\u001b[0;34m,\u001b[0m \u001b[0mallow_2d\u001b[0m\u001b[0;34m=\u001b[0m\u001b[0;32mTrue\u001b[0m\u001b[0;34m)\u001b[0m\u001b[0;34m\u001b[0m\u001b[0;34m\u001b[0m\u001b[0m\n\u001b[1;32m   4917\u001b[0m \u001b[0;34m\u001b[0m\u001b[0m\n",
            "\u001b[0;32m/usr/local/lib/python3.10/dist-packages/pandas/core/common.py\u001b[0m in \u001b[0;36mrequire_length_match\u001b[0;34m(data, index)\u001b[0m\n\u001b[1;32m    569\u001b[0m     \"\"\"\n\u001b[1;32m    570\u001b[0m     \u001b[0;32mif\u001b[0m \u001b[0mlen\u001b[0m\u001b[0;34m(\u001b[0m\u001b[0mdata\u001b[0m\u001b[0;34m)\u001b[0m \u001b[0;34m!=\u001b[0m \u001b[0mlen\u001b[0m\u001b[0;34m(\u001b[0m\u001b[0mindex\u001b[0m\u001b[0;34m)\u001b[0m\u001b[0;34m:\u001b[0m\u001b[0;34m\u001b[0m\u001b[0;34m\u001b[0m\u001b[0m\n\u001b[0;32m--> 571\u001b[0;31m         raise ValueError(\n\u001b[0m\u001b[1;32m    572\u001b[0m             \u001b[0;34m\"Length of values \"\u001b[0m\u001b[0;34m\u001b[0m\u001b[0;34m\u001b[0m\u001b[0m\n\u001b[1;32m    573\u001b[0m             \u001b[0;34mf\"({len(data)}) \"\u001b[0m\u001b[0;34m\u001b[0m\u001b[0;34m\u001b[0m\u001b[0m\n",
            "\u001b[0;31mValueError\u001b[0m: Length of values (4) does not match length of index (3)"
          ]
        }
      ]
    },
    {
      "cell_type": "markdown",
      "source": [
        "## Criando colunas em pandas\n"
      ],
      "metadata": {
        "id": "WZex2DG3-zqX"
      }
    },
    {
      "cell_type": "code",
      "source": [
        "import numpy as np\n",
        "import pandas as pd\n",
        "import matplotlib.pyplot as plt\n",
        "\n",
        "df = pd.read_csv('data/marketjulia.csv')\n",
        "\n",
        "df.plot()"
      ],
      "metadata": {
        "id": "gwQ5jDkx-5CQ"
      },
      "execution_count": null,
      "outputs": []
    },
    {
      "cell_type": "code",
      "source": [
        "import numpy as np\n",
        "import pandas as pd\n",
        "import matplotlib.pyplot as plt\n",
        "df = pd.DataFrame({'exemplo': ['2023-12-04', '2023-11-01', '2023-10-27']})\n",
        "\n",
        "result = pd.to_datetime(df['exemplo']).head()\n",
        "\n",
        "print(result)\n"
      ],
      "metadata": {
        "colab": {
          "base_uri": "https://localhost:8080/"
        },
        "id": "dnmm9l2MOW1i",
        "outputId": "aa8fd0a4-679a-4a7b-bbc9-ddfacd9e3795"
      },
      "execution_count": null,
      "outputs": [
        {
          "output_type": "stream",
          "name": "stdout",
          "text": [
            "0   2023-12-04\n",
            "1   2023-11-01\n",
            "2   2023-10-27\n",
            "Name: exemplo, dtype: datetime64[ns]\n"
          ]
        }
      ]
    },
    {
      "cell_type": "code",
      "source": [
        "import numpy as np\n",
        "import pandas as pd\n",
        "import matplotlib.pyplot as plt\n",
        "df = pd.DataFrame({'exemplo': [1670284800, 1667270400, 1666819200]})\n",
        "\n",
        "result = pd.to_datetime(df['exemplo'], unit='s').head()\n",
        "\n",
        "print(result)\n"
      ],
      "metadata": {
        "colab": {
          "base_uri": "https://localhost:8080/"
        },
        "id": "hZMW0lGqOYTI",
        "outputId": "acf4943c-85fa-4e96-adc9-72258ca3583e"
      },
      "execution_count": null,
      "outputs": [
        {
          "output_type": "stream",
          "name": "stdout",
          "text": [
            "0   2022-12-06 00:00:00\n",
            "1   2022-11-01 02:40:00\n",
            "2   2022-10-26 21:20:00\n",
            "Name: exemplo, dtype: datetime64[ns]\n"
          ]
        }
      ]
    },
    {
      "cell_type": "markdown",
      "source": [
        "## Plot"
      ],
      "metadata": {
        "id": "WvgTdGszPDh4"
      }
    },
    {
      "cell_type": "markdown",
      "source": [
        "O método df.plot() nos dataframes pandas é usado para criar gráficos a partir dos dados do dataframe. O método aceita uma série de argumentos que permitem personalizar o gráfico.\n",
        "\n",
        "Os argumentos mais comuns do método df.plot() são:\n",
        "\n",
        "* x: A coluna que será usada como eixo x do gráfico\n",
        "* y: A coluna que será usada como eixo y do gráfico.\n",
        "* kind: O tipo de gráfico que será criado. Os tipos de gráficos\n",
        "\n",
        "disponíveis são:\n",
        "* line: Gráfico de linhas.\n",
        "* bar: Gráfico de barras.\n",
        "* barh: Gráfico de barras horizontais.\n",
        "* hist: Histograma.\n",
        "* boxplot: Boxplot.\n",
        "* scatter: Gráfico de dispersão.\n",
        "* pie: Gráfico de pizza.\n",
        "* title: O título do gráfico.\n",
        "* xlabel: A legenda do eixo x.\n",
        "* ylabel: A legenda do eixo y.\n",
        "* figsize: O tamanho do gráfico."
      ],
      "metadata": {
        "id": "7pXh8nkdBDlc"
      }
    },
    {
      "cell_type": "code",
      "source": [
        "import pandas as pd\n",
        "\n",
        "# Criar um dataframe\n",
        "df = pd.DataFrame({\n",
        "    \"x\": [1, 2, 3, 4, 5],\n",
        "    \"y\": [6, 7, 8, 9, 10]\n",
        "})\n",
        "\n",
        "# Plotar um gráfico de linhas\n",
        "df.plot(x=\"x\", y=\"y\")\n",
        "\n",
        "# Plotar um gráfico de barras\n",
        "df.plot(x=\"x\", y=\"y\", kind=\"bar\")\n",
        "\n",
        "# Plotar um histograma\n",
        "df.plot(x=\"y\", kind=\"hist\")\n",
        "\n",
        "# Plotar um boxplot\n",
        "#df.plot(x=\"y\", kind=\"boxplot\") - n deu\n",
        "\n",
        "# Plotar um gráfico de dispersão\n",
        "df.plot(x=\"x\", y=\"y\", kind=\"scatter\")\n",
        "\n",
        "# Plotar um gráfico de pizza\n",
        "#df.plot(x=\"y\", kind=\"pie\")\n",
        "df.plot(y=\"y\", kind=\"pie\")\n",
        "df.plot(subplots=True, kind=\"pie\")\n",
        "df.plot(x=\"x\",y=\"y\", kind=\"pie\")\n",
        "\n"
      ],
      "metadata": {
        "colab": {
          "base_uri": "https://localhost:8080/",
          "height": 1000
        },
        "id": "GaAMRFPyPl-h",
        "outputId": "4ed1e6a4-44a7-4240-d943-91f06301d4a8"
      },
      "execution_count": null,
      "outputs": [
        {
          "output_type": "execute_result",
          "data": {
            "text/plain": [
              "<Axes: ylabel='y'>"
            ]
          },
          "metadata": {},
          "execution_count": 1
        },
        {
          "output_type": "display_data",
          "data": {
            "text/plain": [
              "<Figure size 640x480 with 1 Axes>"
            ],
            "image/png": "[encoded data removed]"
          },
          "metadata": {}
        },
        {
          "output_type": "display_data",
          "data": {
            "text/plain": [
              "<Figure size 640x480 with 1 Axes>"
            ],
            "image/png": "[encoded data removed]"
          },
          "metadata": {}
        },
        {
          "output_type": "display_data",
          "data": {
            "text/plain": [
              "<Figure size 640x480 with 1 Axes>"
            ],
            "image/png": "[encoded data removed]"
          },
          "metadata": {}
        },
        {
          "output_type": "display_data",
          "data": {
            "text/plain": [
              "<Figure size 640x480 with 1 Axes>"
            ],
            "image/png": "[encoded data removed]"
          },
          "metadata": {}
        },
        {
          "output_type": "display_data",
          "data": {
            "text/plain": [
              "<Figure size 640x480 with 1 Axes>"
            ],
            "image/png": "[encoded data removed]"
          },
          "metadata": {}
        },
        {
          "output_type": "display_data",
          "data": {
            "text/plain": [
              "<Figure size 640x480 with 2 Axes>"
            ],
            "image/png": "[encoded data removed]"
          },
          "metadata": {}
        },
        {
          "output_type": "display_data",
          "data": {
            "text/plain": [
              "<Figure size 640x480 with 1 Axes>"
            ],
            "image/png": "[encoded data removed]"
          },
          "metadata": {}
        }
      ]
    },
    {
      "cell_type": "code",
      "source": [
        "import pandas as pd\n",
        "\n",
        "# Criar um dataframe\n",
        "df = pd.DataFrame({\n",
        "    \"x\": [1, 2, 3, 4, 5],\n",
        "    \"y\": [6, 7, 8, 9, 10]\n",
        "})\n",
        "\n",
        "# Definir o tamanho do eixo x\n",
        "df.plot(x=\"x\", y=\"y\", figsize=(10, 5))\n",
        "\n",
        "# Definir a legenda do eixo x\n",
        "df.plot(x=\"x\", y=\"y\", xlabel=\"Eixo x\")\n",
        "\n",
        "# Definir a legenda do eixo y\n",
        "df.plot(x=\"x\", y=\"y\", ylabel=\"Eixo y\")\n",
        "\n",
        "# Definir o título do gráfico\n",
        "df.plot(x=\"x\", y=\"y\", title=\"Título do gráfico\", xlabel=\"Eixo x\", ylabel=\"Eixo y\", color=\"red\",  linestyle=\"--\", linewidth=2)\n",
        "\n",
        "# Definir a cor das linhas\n",
        "df.plot(x=\"x\", y=\"y\", color=\"red\")\n",
        "\n",
        "# Definir o estilo das linhas\n",
        "df.plot(x=\"x\", y=\"y\", linestyle=\"--\")\n",
        "\n",
        "# Definir a espessura das linhas\n",
        "df.plot(x=\"x\", y=\"y\", linewidth=2)\n",
        "# Definir o tamanho do eixo x\n",
        "df.plot(x=\"x\", y=\"y\", figsize=(10, 5))\n",
        "\n",
        "# Definir a legenda do eixo x\n",
        "df.plot(x=\"x\", y=\"y\", xlabel=\"Eixo x\")\n",
        "\n",
        "# Definir a legenda do eixo y\n",
        "df.plot(x=\"x\", y=\"y\", ylabel=\"Eixo y\")\n",
        "\n",
        "# Definir o título do gráfico\n",
        "df.plot(x=\"x\", y=\"y\", title=\"Título do gráfico\")\n",
        "\n",
        "# Definir a cor das linhas\n",
        "df.plot(x=\"x\", y=\"y\", color=\"red\")\n",
        "\n",
        "# Definir o estilo das linhas\n",
        "df.plot(x=\"x\", y=\"y\", linestyle=\"--\")\n",
        "\n",
        "# Definir a espessura das linhas\n",
        "df.plot(x=\"x\", y=\"y\", linewidth=2)\n",
        "\n",
        "df.plot(x=\"x\", y=\"y\", title=\"Título do gráfico\", xlabel=\"Eixo x\", ylabel=\"Eixo y\", color=\"red\",  linestyle=\"--\", linewidth=2)\n"
      ],
      "metadata": {
        "colab": {
          "base_uri": "https://localhost:8080/",
          "height": 1000
        },
        "id": "kOIlVo6OPnhp",
        "outputId": "833c428d-ee73-432c-df68-4a7b4c52c02f"
      },
      "execution_count": null,
      "outputs": [
        {
          "output_type": "execute_result",
          "data": {
            "text/plain": [
              "<Axes: title={'center': 'Título do gráfico'}, xlabel='Eixo x', ylabel='Eixo y'>"
            ]
          },
          "metadata": {},
          "execution_count": 4
        },
        {
          "output_type": "display_data",
          "data": {
            "text/plain": [
              "<Figure size 1000x500 with 1 Axes>"
            ],
            "image/png": "[encoded data removed]"
          },
          "metadata": {}
        },
        {
          "output_type": "display_data",
          "data": {
            "text/plain": [
              "<Figure size 640x480 with 1 Axes>"
            ],
            "image/png": "[encoded data removed]"
          },
          "metadata": {}
        },
        {
          "output_type": "display_data",
          "data": {
            "text/plain": [
              "<Figure size 640x480 with 1 Axes>"
            ],
            "image/png": "[encoded data removed]"
          },
          "metadata": {}
        },
        {
          "output_type": "display_data",
          "data": {
            "text/plain": [
              "<Figure size 640x480 with 1 Axes>"
            ],
            "image/png": "[encoded data removed]"
          },
          "metadata": {}
        },
        {
          "output_type": "display_data",
          "data": {
            "text/plain": [
              "<Figure size 640x480 with 1 Axes>"
            ],
            "image/png": "[encoded data removed]"
          },
          "metadata": {}
        },
        {
          "output_type": "display_data",
          "data": {
            "text/plain": [
              "<Figure size 640x480 with 1 Axes>"
            ],
            "image/png": "[encoded data removed]"
          },
          "metadata": {}
        },
        {
          "output_type": "display_data",
          "data": {
            "text/plain": [
              "<Figure size 640x480 with 1 Axes>"
            ],
            "image/png": "[encoded data removed]"
          },
          "metadata": {}
        },
        {
          "output_type": "display_data",
          "data": {
            "text/plain": [
              "<Figure size 1000x500 with 1 Axes>"
            ],
            "image/png": "[encoded data removed]"
          },
          "metadata": {}
        },
        {
          "output_type": "display_data",
          "data": {
            "text/plain": [
              "<Figure size 640x480 with 1 Axes>"
            ],
            "image/png": "[encoded data removed]"
          },
          "metadata": {}
        },
        {
          "output_type": "display_data",
          "data": {
            "text/plain": [
              "<Figure size 640x480 with 1 Axes>"
            ],
            "image/png": "[encoded data removed]"
          },
          "metadata": {}
        },
        {
          "output_type": "display_data",
          "data": {
            "text/plain": [
              "<Figure size 640x480 with 1 Axes>"
            ],
            "image/png": "[encoded data removed]"
          },
          "metadata": {}
        },
        {
          "output_type": "display_data",
          "data": {
            "text/plain": [
              "<Figure size 640x480 with 1 Axes>"
            ],
            "image/png": "[encoded data removed]"
          },
          "metadata": {}
        },
        {
          "output_type": "display_data",
          "data": {
            "text/plain": [
              "<Figure size 640x480 with 1 Axes>"
            ],
            "image/png": "[encoded data removed]"
          },
          "metadata": {}
        },
        {
          "output_type": "display_data",
          "data": {
            "text/plain": [
              "<Figure size 640x480 with 1 Axes>"
            ],
            "image/png": "[encoded data removed]"
          },
          "metadata": {}
        },
        {
          "output_type": "display_data",
          "data": {
            "text/plain": [
              "<Figure size 640x480 with 1 Axes>"
            ],
            "image/png": "[encoded data removed]"
          },
          "metadata": {}
        }
      ]
    },
    {
      "cell_type": "markdown",
      "source": [
        "## Data cleaning\n"
      ],
      "metadata": {
        "id": "H6Ik4ZH-RlFW"
      }
    },
    {
      "cell_type": "code",
      "source": [
        "import pandas as pd\n",
        "import numpy as np\n",
        "\n",
        "s = pd.Series(['a', 3, np.nan, 1, np.nan])\n",
        "\n",
        "print(s.notnull().sum())\n",
        "\n",
        "# pandas para identificar valores nulos\n",
        "pd.isnull(np.nan)\n",
        "pd.isnull(None)\n",
        "pd.isna(np.nan)\n",
        "\n",
        "#the opposite ones also exist:\n",
        "pd.notnull(None)\n",
        "pd.notnull(np.nan)\n",
        "pd.notnull(3)\n",
        "\n",
        "# estas funções em series e dataframes\n",
        "pd.isnull(pd.Series[1, np.nan, 7])\n",
        "pd.notnull(pd.Series[1, np.nan, 7])\n",
        "pd.isnull(pd.DataFrame({\n",
        "    'Column A': [1, np.nanm 7],\n",
        "    'Column B': [np.nan, 2, 3]\n",
        "}))\n",
        "\n",
        "#---\n",
        "s.[s.notnull()]\n",
        "\n",
        "# dropping null values - aoafa tudo que é nulo na tabela\n",
        "s.dropna() # tbm pode estabelecer limites\n"
      ],
      "metadata": {
        "colab": {
          "base_uri": "https://localhost:8080/"
        },
        "id": "yQ-n0HGgRvBx",
        "outputId": "ce110fb5-fb6e-4a6f-f5c8-59bb02fcbfc8"
      },
      "execution_count": null,
      "outputs": [
        {
          "output_type": "stream",
          "name": "stdout",
          "text": [
            "3\n"
          ]
        }
      ]
    },
    {
      "cell_type": "markdown",
      "source": [
        "### Data Cleaning with DataFrames"
      ],
      "metadata": {
        "id": "K22UjnUCWA4_"
      }
    },
    {
      "cell_type": "code",
      "source": [
        "import pandas as pd\n",
        "import numpy as np\n",
        "\n",
        "s = pd.Series([np.nan, 1, 2, np.nan, 3])\n",
        "s = s.fillna(method='ffill')\n",
        "\n",
        "print(s)"
      ],
      "metadata": {
        "colab": {
          "base_uri": "https://localhost:8080/"
        },
        "id": "G789eacjWFL9",
        "outputId": "5d71313e-61a5-4c6f-a50c-3367ec382c86"
      },
      "execution_count": null,
      "outputs": [
        {
          "output_type": "stream",
          "name": "stdout",
          "text": [
            "0    NaN\n",
            "1    1.0\n",
            "2    2.0\n",
            "3    2.0\n",
            "4    3.0\n",
            "dtype: float64\n"
          ]
        }
      ]
    },
    {
      "cell_type": "markdown",
      "source": [
        "### preecnhendo valores nulos"
      ],
      "metadata": {
        "id": "KVi-uqHEXJfl"
      }
    },
    {
      "cell_type": "code",
      "source": [
        "s.fillna(0) # coloca o valor 0 nas linhas nulas\n",
        "\n",
        "s.fillna(s.mean()) # Replace missing values with the mean of the series\n",
        "\n",
        "# preenchendo valores nulos com contiguos close values - metodo argument para preecnher com outro valor proximo do valor nulo\n",
        "s.fillna(method='ffill') #- anterior\n",
        "s.fillna(method='bfill') #- proximo\n",
        "\n",
        "\n",
        "pd.Series([True,False,False]).any() # checa se tem algum valor true na sesrie\n",
        "pd.Series([True,False,False]).all() # checa se todos os valores sao true\n",
        "\n",
        "pd.Series([1, 2, np.nan]).isnull().any() #\n",
        "df['sex'].unique() #\n",
        "df['sex'].replace('d', 'f') #\n",
        "df['sex'].replace({'d':'f', 'n': 'm'}) #"
      ],
      "metadata": {
        "id": "gmspdPjXXI__"
      },
      "execution_count": null,
      "outputs": []
    },
    {
      "cell_type": "code",
      "source": [
        "# Modify this function to return a list of strings as defined above\n",
        "def list_benefits():\n",
        "    return \"More organized code\", \"More readable code\", \"Easier code reuse\", \"Allowing programmers to share and connect code together\"\n",
        "\n",
        "# Modify this function to concatenate to each benefit - \" is a benefit of functions!\"\n",
        "def build_sentence(benefit):\n",
        "    return \"%s is a benefit of functions!\" % benefit\n",
        "\n",
        "\n",
        "def name_the_benefits_of_functions():\n",
        "    list_of_benefits = list_benefits()\n",
        "    for benefit in list_of_benefits:\n",
        "        print(build_sentence(benefit))\n",
        "\n",
        "name_the_benefits_of_functions()"
      ],
      "metadata": {
        "colab": {
          "base_uri": "https://localhost:8080/",
          "height": 331
        },
        "id": "PZxE5nR5W1Xm",
        "outputId": "2ca7d793-76be-4ddc-be47-43738a9881d8"
      },
      "execution_count": null,
      "outputs": [
        {
          "output_type": "error",
          "ename": "TypeError",
          "evalue": "ignored",
          "traceback": [
            "\u001b[0;31m---------------------------------------------------------------------------\u001b[0m",
            "\u001b[0;31mTypeError\u001b[0m                                 Traceback (most recent call last)",
            "\u001b[0;32m<ipython-input-7-a2669d8e0d53>\u001b[0m in \u001b[0;36m<cell line: 13>\u001b[0;34m()\u001b[0m\n\u001b[1;32m     11\u001b[0m \u001b[0;34m\u001b[0m\u001b[0m\n\u001b[1;32m     12\u001b[0m \u001b[0;34m\u001b[0m\u001b[0m\n\u001b[0;32m---> 13\u001b[0;31m \u001b[0mname_the_benefits_of_functions\u001b[0m\u001b[0;34m(\u001b[0m\u001b[0;34m)\u001b[0m\u001b[0;34m\u001b[0m\u001b[0;34m\u001b[0m\u001b[0m\n\u001b[0m",
            "\u001b[0;32m<ipython-input-6-5f23df711678>\u001b[0m in \u001b[0;36mname_the_benefits_of_functions\u001b[0;34m()\u001b[0m\n\u001b[1;32m     11\u001b[0m \u001b[0;32mdef\u001b[0m \u001b[0mname_the_benefits_of_functions\u001b[0m\u001b[0;34m(\u001b[0m\u001b[0;34m)\u001b[0m\u001b[0;34m:\u001b[0m\u001b[0;34m\u001b[0m\u001b[0;34m\u001b[0m\u001b[0m\n\u001b[1;32m     12\u001b[0m     \u001b[0mlist_of_benefits\u001b[0m \u001b[0;34m=\u001b[0m \u001b[0mlist_benefits\u001b[0m\u001b[0;34m(\u001b[0m\u001b[0;34m)\u001b[0m\u001b[0;34m\u001b[0m\u001b[0;34m\u001b[0m\u001b[0m\n\u001b[0;32m---> 13\u001b[0;31m     \u001b[0;32mfor\u001b[0m \u001b[0mbenefit\u001b[0m \u001b[0;32min\u001b[0m \u001b[0mlist_of_benefits\u001b[0m\u001b[0;34m:\u001b[0m\u001b[0;34m\u001b[0m\u001b[0;34m\u001b[0m\u001b[0m\n\u001b[0m\u001b[1;32m     14\u001b[0m         \u001b[0mprint\u001b[0m\u001b[0;34m(\u001b[0m\u001b[0mbuild_sentence\u001b[0m\u001b[0;34m(\u001b[0m\u001b[0mbenefit\u001b[0m\u001b[0;34m)\u001b[0m\u001b[0;34m)\u001b[0m\u001b[0;34m\u001b[0m\u001b[0;34m\u001b[0m\u001b[0m\n\u001b[1;32m     15\u001b[0m \u001b[0;34m\u001b[0m\u001b[0m\n",
            "\u001b[0;31mTypeError\u001b[0m: 'function' object is not iterable"
          ]
        }
      ]
    },
    {
      "cell_type": "code",
      "source": [
        "numbers = [\n",
        "    951, 402, 984, 651, 360, 69, 408, 319, 601, 485, 980, 507, 725, 547, 544,\n",
        "    615, 83, 165, 141, 501, 263, 617, 865, 575, 219, 390, 984, 592, 236, 105, 942, 941,\n",
        "    386, 462, 47, 418, 907, 344, 236, 375, 823, 566, 597, 978, 328, 615, 953, 345,\n",
        "    399, 162, 758, 219, 918, 237, 412, 566, 826, 248, 866, 950, 626, 949, 687, 217,\n",
        "    815, 67, 104, 58, 512, 24, 892, 894, 767, 553, 81, 379, 843, 831, 445, 742, 717,\n",
        "    958, 609, 842, 451, 688, 753, 854, 685, 93, 857, 440, 380, 126, 721, 328, 753, 470,\n",
        "    743, 527\n",
        "]\n",
        "\n",
        "# your code goes here\n",
        "for number in numbers:\n",
        "    if number == 237:\n",
        "        break"
      ],
      "metadata": {
        "id": "PzI8hMX-XpwP"
      },
      "execution_count": null,
      "outputs": []
    },
    {
      "cell_type": "code",
      "source": [
        "numbers = [\n",
        "    951, 402, 984, 651, 360, 69, 408, 319, 601, 485, 980, 507, 725, 547, 544,\n",
        "    615, 83, 165, 141, 501, 263, 617, 865, 575, 219, 390, 984, 592, 236, 105, 942, 941,\n",
        "    386, 462, 47, 418, 907, 344, 236, 375, 823, 566, 597, 978, 328, 615, 953, 345,\n",
        "    399, 162, 758, 219, 918, 237, 412, 566, 826, 248, 866, 950, 626, 949, 687, 217,\n",
        "    815, 67, 104, 58, 512, 24, 892, 894, 767, 553, 81, 379, 843, 831, 445, 742, 717,\n",
        "    958, 609, 842, 451, 688, 753, 854, 685, 93, 857, 440, 380, 126, 721, 328, 753, 470,\n",
        "    743, 527\n",
        "]\n",
        "\n",
        "lista = []\n",
        "\n",
        "for i in numbers:\n",
        "  if i == 237:\n",
        "    break\n",
        "  if i%2 == 0:\n",
        "    print(i)"
      ],
      "metadata": {
        "colab": {
          "base_uri": "https://localhost:8080/"
        },
        "id": "TjjwFHiNZ4hk",
        "outputId": "4dc63e1e-e794-4205-ab9b-82271c6b4d6e"
      },
      "execution_count": null,
      "outputs": [
        {
          "output_type": "stream",
          "name": "stdout",
          "text": [
            "402\n",
            "984\n",
            "360\n",
            "408\n",
            "980\n",
            "544\n",
            "390\n",
            "984\n",
            "592\n",
            "236\n",
            "942\n",
            "386\n",
            "462\n",
            "418\n",
            "344\n",
            "236\n",
            "566\n",
            "978\n",
            "328\n",
            "162\n",
            "758\n",
            "918\n"
          ]
        }
      ]
    },
    {
      "cell_type": "markdown",
      "source": [
        "#### testes\n"
      ],
      "metadata": {
        "id": "Z4D0cFZHT7n8"
      }
    },
    {
      "cell_type": "code",
      "source": [
        "import random\n",
        "\n",
        "cards = [1, 2, 3, 4, 5, 6, 7, 8, 9, \"J\", \"Q\", \"K\", \"A\"]\n",
        "\n",
        "random.shuffle(cards)  # Shuffles the original list in-place\n",
        "z = random.choice(cards)\n",
        "\n",
        "print(z)\n"
      ],
      "metadata": {
        "colab": {
          "base_uri": "https://localhost:8080/"
        },
        "id": "DVN5lHbPSPhg",
        "outputId": "8faf498d-168e-404d-d30c-af8d0b05dce5"
      },
      "execution_count": null,
      "outputs": [
        {
          "output_type": "stream",
          "name": "stdout",
          "text": [
            "3\n"
          ]
        }
      ]
    },
    {
      "cell_type": "code",
      "source": [
        "import random\n",
        "\n",
        "cards = [1, 2, 3, 4, 5, 6, 7, 8, 9, \"J\", \"Q\", \"K\", \"A\"]\n",
        "\n",
        "shuffled_cards = random.sample(cards, len(cards))  # Creates a new shuffled copy of the list\n",
        "z = random.choice(shuffled_cards)\n",
        "\n",
        "print(z)\n"
      ],
      "metadata": {
        "colab": {
          "base_uri": "https://localhost:8080/"
        },
        "id": "NDcR_IAqTfrY",
        "outputId": "be645cc0-2a65-4b69-f8b2-7bcdf4df7bd4"
      },
      "execution_count": null,
      "outputs": [
        {
          "output_type": "stream",
          "name": "stdout",
          "text": [
            "2\n"
          ]
        }
      ]
    },
    {
      "cell_type": "markdown",
      "source": [
        "### Data Cleaning Duplicates"
      ],
      "metadata": {
        "id": "3ta1RQtMT9Vx"
      }
    },
    {
      "cell_type": "code",
      "source": [
        "df.duplicated() # mostra se os valores sao duplicados ou nao\n",
        "df.drop_duplicates() # apaga os duplicados\n",
        "df.duplicated(keep='last') # se o tulimo nao era duplicado, ele considera como se fosse\n",
        "df.drop_duplicates(keep='last')\n",
        "df.drop_duplicates(keep='false')\n",
        "df.duplicated(subset=['name'])\n",
        "\n"
      ],
      "metadata": {
        "id": "6-Ue-wgjUl4m"
      },
      "execution_count": null,
      "outputs": []
    },
    {
      "cell_type": "markdown",
      "source": [
        "### splitting columns\n"
      ],
      "metadata": {
        "id": "-d94m9IGV-AB"
      }
    },
    {
      "cell_type": "code",
      "source": [
        "df['data'].str.split('_')\n",
        "df['data'].str.split('_', expand=True)\n",
        "df['Country'].str.strip()#\n",
        "df['Country'].str.replace(' ', '') # substitui onde tem espaço nos nomes pra imendar tudo"
      ],
      "metadata": {
        "id": "wTnke4gSWBGF"
      },
      "execution_count": null,
      "outputs": []
    },
    {
      "cell_type": "markdown",
      "source": [
        "### Data Cleaning and Visualizations"
      ],
      "metadata": {
        "id": "e8otak6nXVFz"
      }
    },
    {
      "cell_type": "code",
      "source": [
        "import numpy as np\n",
        "import pandas as pd\n",
        "import matplotlib.pyplot as plt\n",
        "%matplotlib inline\n",
        "x = np.arange(-10, 11)\n",
        "\n",
        "plt.figure(figsize=(12, 6))\n",
        "plt.title(\"teste\")\n",
        "\n",
        "\n",
        "plt.plot(x, x**2)\n",
        "plt.plot(x, -1 * (x**2))\n",
        "\n",
        "#plt.subplot(1, 2, 1)\n",
        "\n",
        "fig, axes = plt.subplots(figsize=(12, 6)) #\n",
        "\n",
        "# multiple axes?  como fazer\n",
        "\n",
        "ax4.plot(np.randn(50). c='green', linestyle='---', marker='o', linewidth=3.0)\n",
        "\n",
        "axes.plot(x, x+3, ':r', label='dotted red')\n",
        "axes.settitle\n",
        "\n",
        "#scatter plot?\n",
        "\n",
        "#histogram?\n",
        "\n",
        "#bar plots?\n",
        "\n",
        "#boxplots?"
      ],
      "metadata": {
        "colab": {
          "base_uri": "https://localhost:8080/",
          "height": 562
        },
        "id": "YZEpBwgvXSdS",
        "outputId": "4560ed0b-b1ef-4203-c58e-f71c545cd79c"
      },
      "execution_count": null,
      "outputs": [
        {
          "output_type": "execute_result",
          "data": {
            "text/plain": [
              "[<matplotlib.lines.Line2D at 0x78f091421f90>]"
            ]
          },
          "metadata": {},
          "execution_count": 7
        },
        {
          "output_type": "display_data",
          "data": {
            "text/plain": [
              "<Figure size 1200x600 with 1 Axes>"
            ],
            "image/png": "[encoded data removed]"
          },
          "metadata": {}
        }
      ]
    },
    {
      "cell_type": "markdown",
      "source": [
        "## Reading Data SQL, CSVs, APIs etc\n"
      ],
      "metadata": {
        "id": "BUaZuFxR6V-x"
      }
    },
    {
      "cell_type": "code",
      "source": [
        "import panda as pd\n",
        "\n",
        "with open('exemplo.csv', 'r') as fp:\n",
        "  print(fp)\n",
        "\n",
        "#once the file is opened we can read its content\n",
        "\n",
        "with open('exemplo.csv', 'r') as fp:\n",
        "  for index, line in enumerate(fp.readLines()):\n",
        "    # read just 10 lines\n",
        "    if (index < 10):\n",
        "      print(index, line)\n",
        "\n",
        "# csv module?"
      ],
      "metadata": {
        "id": "fknSwSFi6pLO"
      },
      "execution_count": null,
      "outputs": []
    },
    {
      "cell_type": "code",
      "source": [
        "import csv\n",
        "\n",
        "with open(__A__, 'r') as fp:\n",
        "    reader = csv.reader(fp, delimiter=__B__)\n",
        "    next(reader)\n",
        "    for index, values in enumerate(reader):\n",
        "        name, certs_num, months_num = values\n",
        "        print(f\"{name} earned {__C__} certificates in {months_num} months\")"
      ],
      "metadata": {
        "colab": {
          "base_uri": "https://localhost:8080/",
          "height": 245
        },
        "id": "xyaoGhDW8Aol",
        "outputId": "9e18610a-006d-43ec-92a8-3dfb36e70647"
      },
      "execution_count": null,
      "outputs": [
        {
          "output_type": "error",
          "ename": "NameError",
          "evalue": "ignored",
          "traceback": [
            "\u001b[0;31m---------------------------------------------------------------------------\u001b[0m",
            "\u001b[0;31mNameError\u001b[0m                                 Traceback (most recent call last)",
            "\u001b[0;32m<ipython-input-1-01304d400f40>\u001b[0m in \u001b[0;36m<cell line: 3>\u001b[0;34m()\u001b[0m\n\u001b[1;32m      1\u001b[0m \u001b[0;32mimport\u001b[0m \u001b[0mcsv\u001b[0m\u001b[0;34m\u001b[0m\u001b[0;34m\u001b[0m\u001b[0m\n\u001b[1;32m      2\u001b[0m \u001b[0;34m\u001b[0m\u001b[0m\n\u001b[0;32m----> 3\u001b[0;31m \u001b[0;32mwith\u001b[0m \u001b[0mopen\u001b[0m\u001b[0;34m(\u001b[0m\u001b[0m__A__\u001b[0m\u001b[0;34m,\u001b[0m \u001b[0;34m'r'\u001b[0m\u001b[0;34m)\u001b[0m \u001b[0;32mas\u001b[0m \u001b[0mfp\u001b[0m\u001b[0;34m:\u001b[0m\u001b[0;34m\u001b[0m\u001b[0;34m\u001b[0m\u001b[0m\n\u001b[0m\u001b[1;32m      4\u001b[0m     \u001b[0mreader\u001b[0m \u001b[0;34m=\u001b[0m \u001b[0mcsv\u001b[0m\u001b[0;34m.\u001b[0m\u001b[0mreader\u001b[0m\u001b[0;34m(\u001b[0m\u001b[0mfp\u001b[0m\u001b[0;34m,\u001b[0m \u001b[0mdelimiter\u001b[0m\u001b[0;34m=\u001b[0m\u001b[0m__B__\u001b[0m\u001b[0;34m)\u001b[0m\u001b[0;34m\u001b[0m\u001b[0;34m\u001b[0m\u001b[0m\n\u001b[1;32m      5\u001b[0m     \u001b[0mnext\u001b[0m\u001b[0;34m(\u001b[0m\u001b[0mreader\u001b[0m\u001b[0;34m)\u001b[0m\u001b[0;34m\u001b[0m\u001b[0;34m\u001b[0m\u001b[0m\n",
            "\u001b[0;31mNameError\u001b[0m: name '__A__' is not defined"
          ]
        }
      ]
    },
    {
      "cell_type": "code",
      "source": [
        "import pandas as pd\n",
        "df = pd.read_csv(\"data.csv\")\n",
        "\n",
        "# read_html, read_sql, etc..."
      ],
      "metadata": {
        "id": "Jz6EnL9w8bEQ"
      },
      "execution_count": null,
      "outputs": []
    },
    {
      "cell_type": "code",
      "source": [
        "df = pd.read_csv('teste.csv',\n",
        "                 header=None,\n",
        "                 na_values=['', '?', '-'],\n",
        "                 names=['Timestamp', 'Price'],\n",
        "                 dytpe={'Price': 'float'},\n",
        "                 parse_dates=[0])"
      ],
      "metadata": {
        "id": "ZX9qqYTY9MKz"
      },
      "execution_count": null,
      "outputs": []
    },
    {
      "cell_type": "code",
      "source": [
        "teste = pd.read_csv('teste.csv',\n",
        "                    sep='>',\n",
        "                    skiprows=[1,2])\n",
        "# excluding specific rows?\n",
        "#get rid of blank lines?\n",
        "# save to csv file"
      ],
      "metadata": {
        "id": "v_5Bc8SF9MEh"
      },
      "execution_count": null,
      "outputs": []
    },
    {
      "cell_type": "markdown",
      "source": [
        "## Reading Data from Databases\n",
        "\n",
        "In Python, a Cursor instance in the context of database access (e.g., SQLite, MySQL, etc.) has a variety of methods that allow you to interact with the database. Here are some of the most common methods and their functionalities:\n",
        "\n",
        "Executing Queries:\n",
        "\n",
        "execute(query, args=None): This method sends the provided SQL query to the database. It can optionally take a list of arguments to substitute into the query using placeholder markers.\n",
        "executemany(query, args_list): This method executes the same query multiple times, each time with a different set of arguments from the provided list. This can be efficient for bulk insertion or update operations.\n",
        "Fetching Results:\n",
        "\n",
        "fetchone(): This method retrieves the next row from the result set as a tuple. It returns None if there are no more rows.\n",
        "fetchmany(size=None): This method retrieves the next size rows (or all remaining rows if size is not specified) from the result set and returns them as a list of tuples.\n",
        "fetchall(): This method retrieves all remaining rows from the result set and returns them as a list of tuples.\n",
        "Metadata and Navigation:\n",
        "\n",
        "description: This property provides a list of tuples describing the columns in the current result set, including their names and data types.\n",
        "rowcount: This property returns the number of rows affected by the previous query executed with execute() or executemany().\n",
        "Controlling Transactions:\n",
        "\n",
        "commit(): This method makes the changes made to the database since the last commit permanent.\n",
        "rollback(): This method undoes all changes made to the database since the last commit.\n",
        "Additional methods:\n",
        "\n",
        "close(): This method closes the cursor and releases its resources.\n",
        "callproc(procedure, args=None): This method calls a stored procedure in the database and returns the results as a list of tuples.\n",
        "setinputsizes(sizes): This method sets the buffer sizes for input parameters that will be used with subsequent execute() calls.\n",
        "In summary, a Cursor instance allows you to:\n",
        "\n",
        "Send SQL queries to the database.\n",
        "Fetch results from queries in various ways (individual rows, bulk rows, all rows).\n",
        "Access metadata about the results.\n",
        "Control transactions by committing or rolling back changes.\n",
        "Interact with stored procedures (if supported by the database).\n",
        "It's important to remember that the specific methods and their functionalities might vary slightly depending on the database driver you're using. Consulting the official documentation for your driver is always recommended for accurate information."
      ],
      "metadata": {
        "id": "9kRvtNsa6V22"
      }
    },
    {
      "cell_type": "code",
      "source": [
        "import pandas as pd\n",
        "import sqlite3 # importar sql database\n",
        "\n",
        "conn = sqlite3.connect('exemplo.db')\n",
        "\n",
        "cur = conn.cursor() # possui um metodo execute, que receve parametros sql para correr com a database\n",
        "\n",
        "# the code below will fetch the first 5 rows from the employees table\n",
        "cur.execute('SELECT * FROM employees LIMIT 5:')\n",
        "results = cur.fetchall()\n",
        "print(results)\n",
        "\n",
        "\n",
        "cur.close() #\n",
        "conn.close() #"
      ],
      "metadata": {
        "id": "wXJppVI06eZ3"
      },
      "execution_count": null,
      "outputs": []
    },
    {
      "cell_type": "markdown",
      "source": [
        "#### Using pandas read_sql method, read_sql_query method, read_sql_table method\n"
      ],
      "metadata": {
        "id": "5EcJ0Rfx9O2A"
      }
    },
    {
      "cell_type": "code",
      "source": [
        "conn = sqlite3.connect('teste.db')\n",
        "df = pd.read_sql('SELECT * FROM employees:', conn)\n",
        "\n",
        "df = pd.read_sql_query('SELECT * FROM employees:', conn)\n",
        "\n",
        "\n"
      ],
      "metadata": {
        "id": "3rJwCDr89VWl"
      },
      "execution_count": null,
      "outputs": []
    },
    {
      "cell_type": "code",
      "source": [
        "from sqlalchemy import create_enggine\n",
        "\n",
        "engine = creaate_enggine('sqlite:///teste.db')\n",
        "connection = engine.connect()\n",
        "df = pd.read_sql_table('employees', con=connection)\n",
        "connection.close()"
      ],
      "metadata": {
        "id": "da3Q4bnF-UF5"
      },
      "execution_count": null,
      "outputs": []
    },
    {
      "cell_type": "markdown",
      "source": [
        "### Create tables from DataFrame Objects"
      ],
      "metadata": {
        "id": "xRjKHPkc_M39"
      }
    },
    {
      "cell_type": "code",
      "source": [
        "#drop the table if needed\n",
        "\n",
        "df.to_sql?\n",
        "cur = conn.cursor()\n",
        "\n",
        "cur.execute('DROP TABLE IIF EXISTS employee;')\n",
        "cur.close()"
      ],
      "metadata": {
        "id": "scMcVLLg_Y5-"
      },
      "execution_count": null,
      "outputs": []
    },
    {
      "cell_type": "markdown",
      "source": [],
      "metadata": {
        "id": "A7SrCYpbAw9q"
      }
    },
    {
      "cell_type": "markdown",
      "source": [
        "## Parsing HTML and Saving Data"
      ],
      "metadata": {
        "id": "mM8qlliu_YaO"
      }
    },
    {
      "cell_type": "code",
      "source": [
        "#muita duvida\n",
        "import requests\n",
        "html_url = \"https://teste.html\"\n",
        "\n",
        "# reading excel files\n",
        "\n",
        "import pandas as pd\n",
        "!head products.xlsx\n",
        "# pesquisar sobre read_excel methods\n",
        "df = pd.read_excel('test.xlsx')\n",
        "df.head()\n",
        "# excelFile class ? tranforma tabular excel em data frame\n",
        "excel_file = pd.ExcelFile('teste.xlsx')\n",
        "# save to excel file ?"
      ],
      "metadata": {
        "id": "dP1EexHv_wtG"
      },
      "execution_count": null,
      "outputs": []
    },
    {
      "cell_type": "markdown",
      "source": [
        "# Numpy\n"
      ],
      "metadata": {
        "id": "PEBQ_MokEJ2w"
      }
    },
    {
      "cell_type": "code",
      "source": [
        "a = np.array([[1, 2, 3, 4, 5], [6, 7, 8, 9, 10]])\n",
        "\n",
        "# Output:\n",
        "# [[ 1  2  20  4  5]\n",
        "# [ 6  7 20  9 10]]\n",
        "a[:, 2] = 20\n"
      ],
      "metadata": {
        "id": "CYn07SDhEzYx",
        "colab": {
          "base_uri": "https://localhost:8080/",
          "height": 211
        },
        "outputId": "e102e6e8-209b-4194-ff36-8364290d849c"
      },
      "execution_count": null,
      "outputs": [
        {
          "output_type": "error",
          "ename": "NameError",
          "evalue": "name 'np' is not defined",
          "traceback": [
            "\u001b[0;31m---------------------------------------------------------------------------\u001b[0m",
            "\u001b[0;31mNameError\u001b[0m                                 Traceback (most recent call last)",
            "\u001b[0;32m<ipython-input-3-622a58134fa7>\u001b[0m in \u001b[0;36m<cell line: 1>\u001b[0;34m()\u001b[0m\n\u001b[0;32m----> 1\u001b[0;31m \u001b[0ma\u001b[0m \u001b[0;34m=\u001b[0m \u001b[0mnp\u001b[0m\u001b[0;34m.\u001b[0m\u001b[0marray\u001b[0m\u001b[0;34m(\u001b[0m\u001b[0;34m[\u001b[0m\u001b[0;34m[\u001b[0m\u001b[0;36m1\u001b[0m\u001b[0;34m,\u001b[0m \u001b[0;36m2\u001b[0m\u001b[0;34m,\u001b[0m \u001b[0;36m3\u001b[0m\u001b[0;34m,\u001b[0m \u001b[0;36m4\u001b[0m\u001b[0;34m,\u001b[0m \u001b[0;36m5\u001b[0m\u001b[0;34m]\u001b[0m\u001b[0;34m,\u001b[0m \u001b[0;34m[\u001b[0m\u001b[0;36m6\u001b[0m\u001b[0;34m,\u001b[0m \u001b[0;36m7\u001b[0m\u001b[0;34m,\u001b[0m \u001b[0;36m8\u001b[0m\u001b[0;34m,\u001b[0m \u001b[0;36m9\u001b[0m\u001b[0;34m,\u001b[0m \u001b[0;36m10\u001b[0m\u001b[0;34m]\u001b[0m\u001b[0;34m]\u001b[0m\u001b[0;34m)\u001b[0m\u001b[0;34m\u001b[0m\u001b[0;34m\u001b[0m\u001b[0m\n\u001b[0m\u001b[1;32m      2\u001b[0m \u001b[0;34m\u001b[0m\u001b[0m\n\u001b[1;32m      3\u001b[0m \u001b[0;31m# Output:\u001b[0m\u001b[0;34m\u001b[0m\u001b[0;34m\u001b[0m\u001b[0m\n\u001b[1;32m      4\u001b[0m \u001b[0;31m# [[ 1  2  20  4  5]\u001b[0m\u001b[0;34m\u001b[0m\u001b[0;34m\u001b[0m\u001b[0m\n\u001b[1;32m      5\u001b[0m \u001b[0;31m# [ 6  7 20  9 10]]\u001b[0m\u001b[0;34m\u001b[0m\u001b[0;34m\u001b[0m\u001b[0m\n",
            "\u001b[0;31mNameError\u001b[0m: name 'np' is not defined"
          ]
        }
      ]
    },
    {
      "cell_type": "markdown",
      "source": [
        "## Accessing and Changing Elements, Rows, Columns"
      ],
      "metadata": {
        "id": "bMWFC066X0oU"
      }
    },
    {
      "cell_type": "code",
      "source": [
        "# 3d example\n",
        "b = np.array([[[1,2],[3,4]],[[5,6],[7,8]]])\n",
        "print(b)\n",
        "\n",
        "#get elemnt\n",
        "b[0,1,1]\n",
        "\n",
        "#replace\n",
        "b[:,1,:] = [[9,9,9],[8,8]]"
      ],
      "metadata": {
        "colab": {
          "base_uri": "https://localhost:8080/",
          "height": 176
        },
        "id": "p-vDbZNJX3BN",
        "outputId": "52a5f014-44b9-4cd0-90a1-c5c7b2569dd8"
      },
      "execution_count": null,
      "outputs": [
        {
          "output_type": "error",
          "ename": "NameError",
          "evalue": "name 'np' is not defined",
          "traceback": [
            "\u001b[0;31m---------------------------------------------------------------------------\u001b[0m",
            "\u001b[0;31mNameError\u001b[0m                                 Traceback (most recent call last)",
            "\u001b[0;32m<ipython-input-2-428a91f53767>\u001b[0m in \u001b[0;36m<cell line: 2>\u001b[0;34m()\u001b[0m\n\u001b[1;32m      1\u001b[0m \u001b[0;31m# 3d example\u001b[0m\u001b[0;34m\u001b[0m\u001b[0;34m\u001b[0m\u001b[0m\n\u001b[0;32m----> 2\u001b[0;31m \u001b[0mb\u001b[0m \u001b[0;34m=\u001b[0m \u001b[0mnp\u001b[0m\u001b[0;34m.\u001b[0m\u001b[0marray\u001b[0m\u001b[0;34m(\u001b[0m\u001b[0;34m[\u001b[0m\u001b[0;34m[\u001b[0m\u001b[0;34m[\u001b[0m\u001b[0;36m1\u001b[0m\u001b[0;34m,\u001b[0m\u001b[0;36m2\u001b[0m\u001b[0;34m]\u001b[0m\u001b[0;34m,\u001b[0m\u001b[0;34m[\u001b[0m\u001b[0;36m3\u001b[0m\u001b[0;34m,\u001b[0m\u001b[0;36m4\u001b[0m\u001b[0;34m]\u001b[0m\u001b[0;34m]\u001b[0m\u001b[0;34m,\u001b[0m\u001b[0;34m[\u001b[0m\u001b[0;34m[\u001b[0m\u001b[0;36m5\u001b[0m\u001b[0;34m,\u001b[0m\u001b[0;36m6\u001b[0m\u001b[0;34m]\u001b[0m\u001b[0;34m,\u001b[0m\u001b[0;34m[\u001b[0m\u001b[0;36m7\u001b[0m\u001b[0;34m,\u001b[0m\u001b[0;36m8\u001b[0m\u001b[0;34m]\u001b[0m\u001b[0;34m]\u001b[0m\u001b[0;34m]\u001b[0m\u001b[0;34m)\u001b[0m\u001b[0;34m\u001b[0m\u001b[0;34m\u001b[0m\u001b[0m\n\u001b[0m\u001b[1;32m      3\u001b[0m \u001b[0mprint\u001b[0m\u001b[0;34m(\u001b[0m\u001b[0mb\u001b[0m\u001b[0;34m)\u001b[0m\u001b[0;34m\u001b[0m\u001b[0;34m\u001b[0m\u001b[0m\n",
            "\u001b[0;31mNameError\u001b[0m: name 'np' is not defined"
          ]
        }
      ]
    },
    {
      "cell_type": "markdown",
      "source": [
        "##Initializing Different Arrays"
      ],
      "metadata": {
        "id": "oSjoAUK_ajdh"
      }
    },
    {
      "cell_type": "code",
      "source": [
        "import numpy as np\n",
        "\n",
        "a = np.array([[1, 2, 3, 4, 5], [6, 7, 8, 9, 10]])\n",
        "\n",
        "print(np.full_like(a, 100))\n",
        "# np.full_like(a.shape, 4)\n",
        "\n",
        "## all matriz 0\n",
        "np.zeros((2,3))\n",
        "\n",
        "# all 1s matrix\n",
        "np.ones((4, 2, 2), dtype='int32')\n",
        "\n",
        "# for other number\n",
        "np.full((2,2), 99)\n",
        "\n",
        "#random decimal numbers\n",
        "np.random.rand(4,2)\n",
        "np.random.random_sample(a.shape)\n",
        "\n",
        "#random intefer  values\n",
        "np.random.randint(1,7, size=(3,3))\n",
        "\n",
        "#identity matriz\n",
        "np.identity(5)\n",
        "\n",
        "#repeat\n",
        "arr = np.repeat([1,2,3])\n",
        "r1= np.repeat(arr,3)\n",
        "print(r1)\n",
        "\n",
        "arr = np.repeat([[1,2,3]])\n",
        "r1= np.repeat(arr,3, axis=0) #axis=1\n",
        "print(r1)"
      ],
      "metadata": {
        "colab": {
          "base_uri": "https://localhost:8080/"
        },
        "id": "IXRS21LrahKZ",
        "outputId": "0c2acacb-5dd1-4a7f-a78f-8ef0f72b4fbc"
      },
      "execution_count": null,
      "outputs": [
        {
          "output_type": "stream",
          "name": "stdout",
          "text": [
            "[[100 100 100 100 100]\n",
            " [100 100 100 100 100]]\n"
          ]
        }
      ]
    },
    {
      "cell_type": "markdown",
      "source": [
        "## initialize array problem"
      ],
      "metadata": {
        "id": "WNYeH4JbfTtN"
      }
    },
    {
      "cell_type": "code",
      "source": [
        "# pesquida na net pra entender ta\n",
        "output = np.zeros((7,7))\n",
        "\n",
        "z = np.ones((5, 5))\n",
        "z[2, 2] = 5\n",
        "\n",
        "output[1:-1, 1:-1] = z\n",
        "\n",
        "print(output)"
      ],
      "metadata": {
        "colab": {
          "base_uri": "https://localhost:8080/"
        },
        "id": "49dcdJczf2uw",
        "outputId": "6df74002-28db-4685-a923-3586bbb5282d"
      },
      "execution_count": null,
      "outputs": [
        {
          "output_type": "stream",
          "name": "stdout",
          "text": [
            "[[0. 0. 0. 0. 0. 0. 0.]\n",
            " [0. 1. 1. 1. 1. 1. 0.]\n",
            " [0. 1. 1. 1. 1. 1. 0.]\n",
            " [0. 1. 1. 5. 1. 1. 0.]\n",
            " [0. 1. 1. 1. 1. 1. 0.]\n",
            " [0. 1. 1. 1. 1. 1. 0.]\n",
            " [0. 0. 0. 0. 0. 0. 0.]]\n"
          ]
        }
      ]
    },
    {
      "cell_type": "markdown",
      "source": [
        "## Copying Arrays Warning"
      ],
      "metadata": {
        "id": "6Zb4b8vOxwAG"
      }
    },
    {
      "cell_type": "code",
      "source": [
        "a = np.array([1,2,3])\n",
        "b = a.copy()\n",
        "b[0] = 100\n",
        "print(a)\n",
        "# copy() p evitar alterar o original"
      ],
      "metadata": {
        "colab": {
          "base_uri": "https://localhost:8080/",
          "height": 211
        },
        "id": "Uv6MSbUlx0GU",
        "outputId": "f71dd54d-4a60-4fa8-f22f-ebcc9172e974"
      },
      "execution_count": null,
      "outputs": [
        {
          "output_type": "error",
          "ename": "NameError",
          "evalue": "name 'np' is not defined",
          "traceback": [
            "\u001b[0;31m---------------------------------------------------------------------------\u001b[0m",
            "\u001b[0;31mNameError\u001b[0m                                 Traceback (most recent call last)",
            "\u001b[0;32m<ipython-input-1-dfa41a5bc490>\u001b[0m in \u001b[0;36m<cell line: 1>\u001b[0;34m()\u001b[0m\n\u001b[0;32m----> 1\u001b[0;31m \u001b[0ma\u001b[0m \u001b[0;34m=\u001b[0m \u001b[0mnp\u001b[0m\u001b[0;34m.\u001b[0m\u001b[0marray\u001b[0m\u001b[0;34m(\u001b[0m\u001b[0;34m[\u001b[0m\u001b[0;36m1\u001b[0m\u001b[0;34m,\u001b[0m\u001b[0;36m2\u001b[0m\u001b[0;34m,\u001b[0m\u001b[0;36m3\u001b[0m\u001b[0;34m]\u001b[0m\u001b[0;34m)\u001b[0m\u001b[0;34m\u001b[0m\u001b[0;34m\u001b[0m\u001b[0m\n\u001b[0m\u001b[1;32m      2\u001b[0m \u001b[0mb\u001b[0m \u001b[0;34m=\u001b[0m \u001b[0ma\u001b[0m\u001b[0;34m.\u001b[0m\u001b[0mcopy\u001b[0m\u001b[0;34m(\u001b[0m\u001b[0;34m)\u001b[0m\u001b[0;34m\u001b[0m\u001b[0;34m\u001b[0m\u001b[0m\n\u001b[1;32m      3\u001b[0m \u001b[0mb\u001b[0m\u001b[0;34m[\u001b[0m\u001b[0;36m0\u001b[0m\u001b[0;34m]\u001b[0m \u001b[0;34m=\u001b[0m \u001b[0;36m100\u001b[0m\u001b[0;34m\u001b[0m\u001b[0;34m\u001b[0m\u001b[0m\n\u001b[1;32m      4\u001b[0m \u001b[0mprint\u001b[0m\u001b[0;34m(\u001b[0m\u001b[0ma\u001b[0m\u001b[0;34m)\u001b[0m\u001b[0;34m\u001b[0m\u001b[0;34m\u001b[0m\u001b[0m\n\u001b[1;32m      5\u001b[0m \u001b[0;31m# copy() p evitar alterar o original\u001b[0m\u001b[0;34m\u001b[0m\u001b[0;34m\u001b[0m\u001b[0m\n",
            "\u001b[0;31mNameError\u001b[0m: name 'np' is not defined"
          ]
        }
      ]
    },
    {
      "cell_type": "markdown",
      "source": [
        "## mathematics"
      ],
      "metadata": {
        "id": "_qQSn5K9yyQv"
      }
    },
    {
      "cell_type": "code",
      "source": [
        "import numpy as np\n",
        "\n",
        "a = np.array(([1, 2, 3, 4, 5], [6, 7, 8, 9, 10]))\n",
        "b = np.max(a, axis=1).sum()\n",
        "\n",
        "print(b)\n"
      ],
      "metadata": {
        "colab": {
          "base_uri": "https://localhost:8080/"
        },
        "id": "tdv7Qr1Pyn78",
        "outputId": "af801331-5b27-40de-8566-07b9de358149"
      },
      "execution_count": null,
      "outputs": [
        {
          "output_type": "stream",
          "name": "stdout",
          "text": [
            "15\n"
          ]
        }
      ]
    },
    {
      "cell_type": "markdown",
      "source": [
        "### linear algebra\n"
      ],
      "metadata": {
        "id": "AqPc7BaizSDN"
      }
    },
    {
      "cell_type": "code",
      "source": [
        "import numpy as np\n",
        "a = np.ones((2,3))\n",
        "b = np.full((3,2),2)\n",
        "\n",
        "np.matmul(a,b) # multiplica as matrizes de tamanho dif"
      ],
      "metadata": {
        "id": "nmslY0IezVlm"
      },
      "execution_count": null,
      "outputs": []
    },
    {
      "cell_type": "code",
      "source": [
        "# find the determinant VEJA MAIS SOBRE ESSAS REFERENCIAS DE LINALG\n",
        "c = np.identity(3)\n",
        "np.linalg.det(c)"
      ],
      "metadata": {
        "colab": {
          "base_uri": "https://localhost:8080/"
        },
        "id": "1CHQ8Onbz-K-",
        "outputId": "2792a6fb-eb19-4e56-cd8b-d620bc863f01"
      },
      "execution_count": null,
      "outputs": [
        {
          "output_type": "execute_result",
          "data": {
            "text/plain": [
              "1.0"
            ]
          },
          "metadata": {},
          "execution_count": 4
        }
      ]
    },
    {
      "cell_type": "markdown",
      "source": [
        "## Reorganizing Arrays"
      ],
      "metadata": {
        "id": "T_q30b2pEjMC"
      }
    },
    {
      "cell_type": "code",
      "source": [
        "a = np.ones((2, 4))\n",
        "b = a.reshape((4, 2))\n",
        "print(b)\n",
        "\n",
        "print(a)"
      ],
      "metadata": {
        "colab": {
          "base_uri": "https://localhost:8080/"
        },
        "id": "txcgCIlcEm4U",
        "outputId": "35665177-bb80-4fcd-f9f3-eb9ac578bdb1"
      },
      "execution_count": null,
      "outputs": [
        {
          "output_type": "stream",
          "name": "stdout",
          "text": [
            "[[1. 1.]\n",
            " [1. 1.]\n",
            " [1. 1.]\n",
            " [1. 1.]]\n",
            "[[1. 1. 1. 1.]\n",
            " [1. 1. 1. 1.]]\n"
          ]
        }
      ]
    },
    {
      "cell_type": "code",
      "source": [
        "# vertically stacking vectors\n",
        "v1 = np.array([1,2,3])\n",
        "v2 = np.array([1,5,3])\n",
        "np.vstack([v1,v2])"
      ],
      "metadata": {
        "colab": {
          "base_uri": "https://localhost:8080/"
        },
        "id": "l6yEbYovGEf0",
        "outputId": "a374e8a8-7284-4adc-9f2c-e9a68715444a"
      },
      "execution_count": null,
      "outputs": [
        {
          "output_type": "execute_result",
          "data": {
            "text/plain": [
              "array([[1, 2, 3],\n",
              "       [1, 5, 3]])"
            ]
          },
          "metadata": {},
          "execution_count": 7
        }
      ]
    },
    {
      "cell_type": "code",
      "source": [
        "# horizontal stacking vectors\n",
        "v1 = np.array([1,2,3])\n",
        "v2 = np.array([1,5,3])\n",
        "np.hstack([v1,v2])"
      ],
      "metadata": {
        "colab": {
          "base_uri": "https://localhost:8080/"
        },
        "id": "GrHT4epaGxdJ",
        "outputId": "48dd977e-96e8-4818-d755-dac225622726"
      },
      "execution_count": null,
      "outputs": [
        {
          "output_type": "execute_result",
          "data": {
            "text/plain": [
              "array([1, 2, 3, 1, 5, 3])"
            ]
          },
          "metadata": {},
          "execution_count": 8
        }
      ]
    },
    {
      "cell_type": "markdown",
      "source": [
        "## Loading Data and Advanced Indexing"
      ],
      "metadata": {
        "id": "W2RVR2QWICuk"
      }
    },
    {
      "cell_type": "code",
      "source": [
        "#load data from file\n",
        "filedata = np.genfromtxt('exemplo.txt', delimiter=',')\n",
        "filedata.astype('int32')"
      ],
      "metadata": {
        "id": "nwWwwOzfICdz"
      },
      "execution_count": null,
      "outputs": []
    },
    {
      "cell_type": "markdown",
      "source": [
        "### Boolean masking and advanced indexing"
      ],
      "metadata": {
        "id": "hVTsSdwDJx4Q"
      }
    },
    {
      "cell_type": "code",
      "source": [
        "filedata[filedata > 50]"
      ],
      "metadata": {
        "id": "WrutEokiKJZd"
      },
      "execution_count": null,
      "outputs": []
    },
    {
      "cell_type": "code",
      "source": [
        "np.any(filedata > 50, axis=0) # n entendi\n",
        "np.all(filedata > 50, axis=0)\n",
        "np.any(filedata > 50, axis=1)\n",
        "\n",
        "((filedata > 50) & (filedata < 100))"
      ],
      "metadata": {
        "id": "N4GYn9_kKRc2"
      },
      "execution_count": null,
      "outputs": []
    },
    {
      "cell_type": "markdown",
      "source": [],
      "metadata": {
        "id": "HqsWsQyRL8fo"
      }
    },
    {
      "cell_type": "code",
      "source": [
        "import numpy as np\n",
        "\n",
        "def calculate(numbers):\n",
        "    if len(numbers) != 9:\n",
        "        raise ValueError(\"List must contain nine numbers.\")\n",
        "\n",
        "    matrix = np.array(numbers).reshape(3, 3)\n",
        "\n",
        "    result = {\n",
        "        'mean': [matrix.mean(axis=0).tolist(), matrix.mean(axis=1).tolist(), matrix.mean()],\n",
        "        'variance': [matrix.var(axis=0).tolist(), matrix.var(axis=1).tolist(), matrix.var()],\n",
        "        'standard deviation': [matrix.std(axis=0).tolist(), matrix.std(axis=1).tolist(), matrix.std()],\n",
        "        'max': [matrix.max(axis=0).tolist(), matrix.max(axis=1).tolist(), matrix.max()],\n",
        "        'min': [matrix.min(axis=0).tolist(), matrix.min(axis=1).tolist(), matrix.min()],\n",
        "        'sum': [matrix.sum(axis=0).tolist(), matrix.sum(axis=1).tolist(), matrix.sum()]\n",
        "    }\n",
        "\n",
        "    return result\n",
        "\n",
        "numbers = [0, 1, 2, 3, 4, 5, 6, 7, 8]\n",
        "result = calculate(numbers)\n",
        "print(result)\n"
      ],
      "metadata": {
        "colab": {
          "base_uri": "https://localhost:8080/"
        },
        "id": "BTTs98G1NCJ0",
        "outputId": "a233bd32-c068-4490-afa3-dec7ce70f226"
      },
      "execution_count": null,
      "outputs": [
        {
          "output_type": "stream",
          "name": "stdout",
          "text": [
            "{'mean': [[3.0, 4.0, 5.0], [1.0, 4.0, 7.0], 4.0], 'variance': [[6.0, 6.0, 6.0], [0.6666666666666666, 0.6666666666666666, 0.6666666666666666], 6.666666666666667], 'standard deviation': [[2.449489742783178, 2.449489742783178, 2.449489742783178], [0.816496580927726, 0.816496580927726, 0.816496580927726], 2.581988897471611], 'max': [[6, 7, 8], [2, 5, 8], 8], 'min': [[0, 1, 2], [0, 3, 6], 0], 'sum': [[9, 12, 15], [3, 12, 21], 36]}\n"
          ]
        }
      ]
    }
  ]
}