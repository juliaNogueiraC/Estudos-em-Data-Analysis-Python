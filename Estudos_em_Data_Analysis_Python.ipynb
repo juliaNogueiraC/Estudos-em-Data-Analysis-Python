{
  "nbformat": 4,
  "nbformat_minor": 0,
  "metadata": {
    "colab": {
      "provenance": [],
      "toc_visible": true,
      "authorship_tag": "ABX9TyMbwLiNPARLT+i3d536P5Hq",
      "include_colab_link": true
    },
    "kernelspec": {
      "name": "python3",
      "display_name": "Python 3"
    },
    "language_info": {
      "name": "python"
    }
  },
  "cells": [
    {
      "cell_type": "markdown",
      "metadata": {
        "id": "view-in-github",
        "colab_type": "text"
      },
      "source": [
        "<a href=\"https://colab.research.google.com/github/juliaNogueiraC/Estudos-em-Data-Analysis-Python/blob/main/Estudos_em_Data_Analysis_Python.ipynb\" target=\"_parent\"><img src=\"https://colab.research.google.com/assets/colab-badge.svg\" alt=\"Open In Colab\"/></a>"
      ]
    },
    {
      "cell_type": "markdown",
      "source": [
        "# ***NUMPY***\n"
      ],
      "metadata": {
        "id": "TMZARupi6OIT"
      }
    },
    {
      "cell_type": "markdown",
      "source": [
        "##1. Criando array"
      ],
      "metadata": {
        "id": "eFrZwPfX8Qnq"
      }
    },
    {
      "cell_type": "code",
      "execution_count": null,
      "metadata": {
        "id": "q4ADD8C12XFO"
      },
      "outputs": [],
      "source": [
        "import numpy as np\n",
        "\n",
        "# Criando um array unidimensional\n",
        "arr1d = np.array([1, 2, 3, 4, 5])\n",
        "\n",
        "# Criando uma matriz bidimensional\n",
        "arr2d = np.array([[1, 2, 3], [4, 5, 6], [7, 8, 9]])"
      ]
    },
    {
      "cell_type": "markdown",
      "source": [
        "##2. Operações Vetorizadas:\n"
      ],
      "metadata": {
        "id": "Fby6PTwi6ZTZ"
      }
    },
    {
      "cell_type": "code",
      "source": [
        "import numpy as np\n",
        "# Operações simples em arrays\n",
        "arr = np.array([1, 2, 3, 4, 5])\n",
        "\n",
        "# Multiplicação de todos os elementos por 2\n",
        "result = arr * 2\n",
        "print(result)\n",
        "# Adição de 10 a todos os elementos\n",
        "result = arr + 10\n",
        "print(result)\n"
      ],
      "metadata": {
        "colab": {
          "base_uri": "https://localhost:8080/"
        },
        "id": "68c5-9K16dVC",
        "outputId": "fdddeb01-cadc-4463-c1e2-aa5959b0ab6c"
      },
      "execution_count": null,
      "outputs": [
        {
          "output_type": "stream",
          "name": "stdout",
          "text": [
            "[ 2  4  6  8 10]\n",
            "[11 12 13 14 15]\n"
          ]
        }
      ]
    },
    {
      "cell_type": "markdown",
      "source": [
        "##3. Indexação e Fatiamento:"
      ],
      "metadata": {
        "id": "Y8rM_oz164-n"
      }
    },
    {
      "cell_type": "code",
      "source": [
        "import numpy as np\n",
        "# Indexação e fatiamento em arrays\n",
        "arr = np.array([0, 1, 2, 3, 4, 5, 6, 7, 8, 9])\n",
        "\n",
        "# Selecionando elementos de índice 2 a 5\n",
        "subset = arr[2:6]\n",
        "print(subset)\n",
        "\n",
        "# Indexação booleana para selecionar elementos maiores que 5\n",
        "subset = arr[arr > 5]\n",
        "print(subset)\n"
      ],
      "metadata": {
        "colab": {
          "base_uri": "https://localhost:8080/"
        },
        "id": "6deRVF2z67qg",
        "outputId": "2e5dba40-cd44-4a36-ef65-f3aff00356ea"
      },
      "execution_count": null,
      "outputs": [
        {
          "output_type": "stream",
          "name": "stdout",
          "text": [
            "[2 3 4 5]\n",
            "[6 7 8 9]\n"
          ]
        }
      ]
    },
    {
      "cell_type": "markdown",
      "source": [
        "##4. Funções Matemáticas:"
      ],
      "metadata": {
        "id": "55n63KXn7yrk"
      }
    },
    {
      "cell_type": "code",
      "source": [
        "# Funções matemáticas em arrays\n",
        "arr = np.array([1, 2, 3, 4, 5])\n",
        "\n",
        "# Calculando o seno de cada elemento\n",
        "sin_values = np.sin(arr)\n",
        "print(sin_values)\n",
        "\n",
        "# Calculando a média dos elementos\n",
        "mean_value = np.mean(arr)\n",
        "\n",
        "print(mean_value)\n"
      ],
      "metadata": {
        "colab": {
          "base_uri": "https://localhost:8080/"
        },
        "id": "JAeGrOPF7zpE",
        "outputId": "e6325e9b-0823-48be-df6a-2e76464463a9"
      },
      "execution_count": null,
      "outputs": [
        {
          "output_type": "stream",
          "name": "stdout",
          "text": [
            "[ 0.84147098  0.90929743  0.14112001 -0.7568025  -0.95892427]\n",
            "3.0\n"
          ]
        }
      ]
    },
    {
      "cell_type": "markdown",
      "source": [
        "##5. Operações estatisticas"
      ],
      "metadata": {
        "id": "PAM-QM4n9ATv"
      }
    },
    {
      "cell_type": "code",
      "source": [
        "import numpy as np\n",
        "\n",
        "# Criando um array de dados\n",
        "dados = np.array([10, 15, 12, 8, 20, 14, 18, 22, 25, 16])\n",
        "\n",
        "# Calculando a média e o desvio padrão\n",
        "media = np.mean(dados)\n",
        "print(\"media:\", media)\n",
        "desvio_padrao = np.std(dados)\n",
        "print(\"desvio padrão\", desvio_padrao)\n",
        "\n",
        "# Encontrando o valor máximo e mínimo\n",
        "maximo = np.max(dados)\n",
        "minimo = np.min(dados)\n",
        "print(\"max:\", maximo)\n",
        "print(\"min:\", maximo)"
      ],
      "metadata": {
        "colab": {
          "base_uri": "https://localhost:8080/"
        },
        "id": "Jb0Pr4Gx9GHI",
        "outputId": "1d661ee6-25cb-4231-e6ee-df1a3f126e0b"
      },
      "execution_count": null,
      "outputs": [
        {
          "output_type": "stream",
          "name": "stdout",
          "text": [
            "media: 16.0\n",
            "desvio padrão 5.079370039680118\n",
            "max: 25\n",
            "min: 25\n"
          ]
        }
      ]
    },
    {
      "cell_type": "markdown",
      "source": [
        "##6. Trabalhando com Matrizes:"
      ],
      "metadata": {
        "id": "s38HV2oV-VLZ"
      }
    },
    {
      "cell_type": "code",
      "source": [
        "# Criando uma matriz de dados\n",
        "matriz = np.array([[1, 2, 3], [4, 5, 6], [7, 8, 9]])\n",
        "\n",
        "# Calculando a soma das colunas e das linhas\n",
        "soma_colunas = np.sum(matriz, axis=0)\n",
        "print(\"soma das colunas:\", soma_colunas)\n",
        "\n",
        "soma_linhas = np.sum(matriz, axis=1)\n",
        "print(\"soma das linhas:\", soma_linhas)\n"
      ],
      "metadata": {
        "colab": {
          "base_uri": "https://localhost:8080/"
        },
        "id": "wwRCbcjn-XBK",
        "outputId": "c4e29837-16dd-4890-c2f5-4b57b60a889e"
      },
      "execution_count": null,
      "outputs": [
        {
          "output_type": "stream",
          "name": "stdout",
          "text": [
            "soma das colunas: [12 15 18]\n",
            "soma das linhas: [ 6 15 24]\n"
          ]
        }
      ]
    },
    {
      "cell_type": "markdown",
      "source": [
        "##7. Operações com Dados Aleatórios:"
      ],
      "metadata": {
        "id": "Dc6gfvbDFpRw"
      }
    },
    {
      "cell_type": "code",
      "source": [
        "# Gerando dados aleatórios\n",
        "dados_aleatorios = np.random.randn(1000)  # 1000 números aleatórios de uma distribuição normal padrão\n",
        "\n",
        "# Calculando a média e o desvio padrão\n",
        "media_aleatoria = np.mean(dados_aleatorios)\n",
        "desvio_padrao_aleatorio = np.std(dados_aleatorios)\n",
        "print(media_aleatoria)\n",
        "print(desvio_padrao_aleatorio)"
      ],
      "metadata": {
        "colab": {
          "base_uri": "https://localhost:8080/"
        },
        "id": "ZXYId43UNT8B",
        "outputId": "34f7cd6d-4395-4226-c0d7-24bb68952233"
      },
      "execution_count": null,
      "outputs": [
        {
          "output_type": "stream",
          "name": "stdout",
          "text": [
            "-0.008152918792340664\n",
            "0.9850603932414146\n"
          ]
        }
      ]
    },
    {
      "cell_type": "markdown",
      "source": [
        "##8. Manipulação de dados"
      ],
      "metadata": {
        "id": "X-ZaQwaGNlVx"
      }
    },
    {
      "cell_type": "code",
      "source": [
        "# Reshape para transformar um array unidimensional em uma matriz\n",
        "arr = np.arange(12)\n",
        "matriz = arr.reshape(3, 4)\n",
        "\n",
        "# Transposição de uma matriz\n",
        "matriz_transposta = matriz.T\n",
        "print(matriz_transposta)"
      ],
      "metadata": {
        "colab": {
          "base_uri": "https://localhost:8080/"
        },
        "id": "_7kpaJS-NoEC",
        "outputId": "053f4546-0ccb-4040-e9fe-2968ab5f23fe"
      },
      "execution_count": null,
      "outputs": [
        {
          "output_type": "stream",
          "name": "stdout",
          "text": [
            "[[ 0  4  8]\n",
            " [ 1  5  9]\n",
            " [ 2  6 10]\n",
            " [ 3  7 11]]\n"
          ]
        }
      ]
    },
    {
      "cell_type": "markdown",
      "source": [
        "##9. Produto Interno (Dot Product):"
      ],
      "metadata": {
        "id": "EtyER2MPNr9j"
      }
    },
    {
      "cell_type": "code",
      "source": [
        "# Produto interno de duas matrizes\n",
        "A = np.array([[1, 2], [3, 4]])\n",
        "B = np.array([[5, 6], [7, 8]])\n",
        "\n",
        "produto_interno = np.dot(A, B)\n",
        "print(produto_interno)"
      ],
      "metadata": {
        "colab": {
          "base_uri": "https://localhost:8080/"
        },
        "id": "66fxKt6CNvNc",
        "outputId": "783eff3d-36f3-44e2-c561-23735371808c"
      },
      "execution_count": null,
      "outputs": [
        {
          "output_type": "stream",
          "name": "stdout",
          "text": [
            "[[19 22]\n",
            " [43 50]]\n"
          ]
        }
      ]
    },
    {
      "cell_type": "markdown",
      "source": [
        "##10.  Indexação Booleana e Filtragem:"
      ],
      "metadata": {
        "id": "mqobSyqmPjAk"
      }
    },
    {
      "cell_type": "code",
      "source": [
        "# Filtrando valores maiores que 10\n",
        "dados = np.array([5, 12, 8, 15, 20, 7])\n",
        "filtro = dados > 10\n",
        "valores_maiores_que_10 = dados[filtro]\n",
        "print(valores_maiores_que_10)"
      ],
      "metadata": {
        "colab": {
          "base_uri": "https://localhost:8080/"
        },
        "id": "ufE--3lIN4y8",
        "outputId": "8c189322-aad2-4583-82cf-064fc229d5de"
      },
      "execution_count": null,
      "outputs": [
        {
          "output_type": "stream",
          "name": "stdout",
          "text": [
            "[12 15 20]\n"
          ]
        }
      ]
    },
    {
      "cell_type": "markdown",
      "source": [
        "##Exemplo com array e matriz"
      ],
      "metadata": {
        "id": "qrAN7cI8Qp_c"
      }
    },
    {
      "cell_type": "code",
      "source": [
        "A = np.array([\n",
        "    ['a', 'b', 'c'],\n",
        "    ['d', 'e', 'f'],\n",
        "    ['g', 'h', 'i']\n",
        "])\n",
        "\n",
        "print(A[:2, :2])"
      ],
      "metadata": {
        "colab": {
          "base_uri": "https://localhost:8080/"
        },
        "id": "tq3__fK7QZqv",
        "outputId": "a5fca0d1-ba4d-41dd-a747-b5469fa1c058"
      },
      "execution_count": null,
      "outputs": [
        {
          "output_type": "stream",
          "name": "stdout",
          "text": [
            "[['a' 'b']\n",
            " ['d' 'e']]\n"
          ]
        }
      ]
    },
    {
      "cell_type": "code",
      "source": [
        "a = np.arange(5)\n",
        "#Após essa linha, a será um array NumPy unidimensional com os valores [0, 1, 2, 3, 4]\n",
        "#Nesta linha, cada elemento do array a é somado a 20.\n",
        "a + 20\n",
        "print(\"matriz:\", a)\n",
        "print(\"matriz somada:\", a + 20)"
      ],
      "metadata": {
        "colab": {
          "base_uri": "https://localhost:8080/"
        },
        "id": "A2uc29scRK3v",
        "outputId": "4207b604-adf2-4c9b-e864-1800deb45c35"
      },
      "execution_count": null,
      "outputs": [
        {
          "output_type": "stream",
          "name": "stdout",
          "text": [
            "[0 1 2 3 4]\n",
            "[20 21 22 23 24]\n"
          ]
        }
      ]
    },
    {
      "cell_type": "code",
      "source": [
        "#Numpy Boolean Arrays\n",
        "a = np.arange(5)\n",
        "\n",
        "print(a <= 3)"
      ],
      "metadata": {
        "colab": {
          "base_uri": "https://localhost:8080/"
        },
        "id": "1wXaKkijRL83",
        "outputId": "eb2218ff-9a53-4d40-8712-d909b588e65e"
      },
      "execution_count": null,
      "outputs": [
        {
          "output_type": "stream",
          "name": "stdout",
          "text": [
            "[ True  True  True  True False]\n"
          ]
        }
      ]
    },
    {
      "cell_type": "markdown",
      "source": [
        "## Produto interno"
      ],
      "metadata": {
        "id": "Jk5K1Vz4S1kW"
      }
    },
    {
      "cell_type": "code",
      "source": [
        "import numpy as np\n",
        "\n",
        "# Criando dois arrays\n",
        "arrayA = np.array([1, 2, 3])\n",
        "arrayB = np.array([4, 5, 6])\n",
        "\n",
        "# Calculando o produto interno\n",
        "produto_interno = arrayA.dot(arrayB)\n",
        "\n",
        "print(\"Array A:\", arrayA)\n",
        "print(\"Array B:\", arrayB)\n",
        "print(\"Produto Interno:\", produto_interno)\n"
      ],
      "metadata": {
        "id": "KS38ZgiaRyMw"
      },
      "execution_count": null,
      "outputs": []
    },
    {
      "cell_type": "markdown",
      "source": [
        "##Produto interno e transporta"
      ],
      "metadata": {
        "id": "lrxWo9MOTSBw"
      }
    },
    {
      "cell_type": "code",
      "source": [
        "import numpy as np\n",
        "\n",
        "# Criando dois arrays\n",
        "arrayA = np.array([1, 2, 3])\n",
        "arrayB2 = np.array([[4, 5, 6], [7, 8, 9]])\n",
        "\n",
        "# Calculando o produto interno\n",
        "produto_interno1 = arrayA.dot(arrayB2.T)\n",
        "\n",
        "# Transpondo o arrayB\n",
        "transposta_arrayB2 = arrayB2.T\n",
        "\n",
        "print(\"Array A:\", arrayA)\n",
        "print(\"Array B:\", arrayB2)\n",
        "print(\"Produto Interno (arrayA @ transposta_arrayB):\")\n",
        "print(produto_interno1)\n",
        "print(\"Transposta de arrayB (arrayB.T):\")\n",
        "print(transposta_arrayB2)\n",
        "\n"
      ],
      "metadata": {
        "colab": {
          "base_uri": "https://localhost:8080/"
        },
        "id": "rx01tdDWTU3N",
        "outputId": "419c8026-4022-4a8b-f098-66fd10b1c5d3"
      },
      "execution_count": null,
      "outputs": [
        {
          "output_type": "stream",
          "name": "stdout",
          "text": [
            "Array A: [1 2 3]\n",
            "Array B: [[4 5 6]\n",
            " [7 8 9]]\n",
            "Produto Interno (arrayA @ transposta_arrayB):\n",
            "[32 50]\n",
            "Transposta de arrayB (arrayB.T):\n",
            "[[4 7]\n",
            " [5 8]\n",
            " [6 9]]\n"
          ]
        }
      ]
    },
    {
      "cell_type": "markdown",
      "source": [
        "##Algebra and size"
      ],
      "metadata": {
        "id": "d8JMqizmzUqQ"
      }
    },
    {
      "cell_type": "code",
      "source": [
        "l = list(range(1000))\n",
        "a = np.arange(1000)\n",
        "%time np.sum(a ** 2)\n",
        "%time sum([x **2 for x in l])"
      ],
      "metadata": {
        "colab": {
          "base_uri": "https://localhost:8080/"
        },
        "id": "vmjeYVlIzqI3",
        "outputId": "9a0e2dc7-98e0-4257-efec-1d72cc872d5b"
      },
      "execution_count": null,
      "outputs": [
        {
          "output_type": "stream",
          "name": "stdout",
          "text": [
            "CPU times: user 306 µs, sys: 0 ns, total: 306 µs\n",
            "Wall time: 316 µs\n",
            "CPU times: user 484 µs, sys: 0 ns, total: 484 µs\n",
            "Wall time: 494 µs\n"
          ]
        },
        {
          "output_type": "execute_result",
          "data": {
            "text/plain": [
              "332833500"
            ]
          },
          "metadata": {},
          "execution_count": 7
        }
      ]
    },
    {
      "cell_type": "markdown",
      "source": [
        "# PANDAS"
      ],
      "metadata": {
        "id": "ryC0PlsC0s18"
      }
    },
    {
      "cell_type": "code",
      "source": [
        "import pandas as pd\n"
      ],
      "metadata": {
        "id": "z6Uyw69Y00ML"
      },
      "execution_count": null,
      "outputs": []
    },
    {
      "cell_type": "markdown",
      "source": [
        "## Criando um Data-frame"
      ],
      "metadata": {
        "id": "gSxq89Oa1TYN"
      }
    },
    {
      "cell_type": "code",
      "source": [
        "import pandas as pd\n",
        "# Criando um DataFrame a partir de um dicionário\n",
        "data = {'Nome': ['Alice', 'Bob', 'Charlie', 'Peter', 'Margot', 'Pimba'],\n",
        "        'Idade': [25, 30, 35, 40, 60, 90],\n",
        "        'Cidade': ['A', 'B', 'C', 'D', 'E', 'F']}\n",
        "print(\"----DataFrame-----\")\n",
        "df = pd.DataFrame(data)\n",
        "print(df)\n",
        "print(\"------------------\")\n",
        "print(\"----Head----------\")\n",
        "# Visualizando as primeiras linhas do DataFrame\n",
        "print(df.head(1))\n",
        "print(\"------------------\")\n",
        "print(\"----idade---------\")\n",
        "# Selecionando uma coluna\n",
        "idades = df['Idade']\n",
        "print(idades)\n",
        "\n"
      ],
      "metadata": {
        "colab": {
          "base_uri": "https://localhost:8080/"
        },
        "id": "6TpHufDK1TEj",
        "outputId": "79f12e53-18bd-4a31-d3e1-461eda1f05bb"
      },
      "execution_count": null,
      "outputs": [
        {
          "output_type": "stream",
          "name": "stdout",
          "text": [
            "----DataFrame-----\n",
            "      Nome  Idade Cidade\n",
            "0    Alice     25      A\n",
            "1      Bob     30      B\n",
            "2  Charlie     35      C\n",
            "3    Peter     40      D\n",
            "4   Margot     60      E\n",
            "5    Pimba     90      F\n",
            "------------------\n",
            "----Head----------\n",
            "    Nome  Idade Cidade\n",
            "0  Alice     25      A\n",
            "------------------\n",
            "----idade---------\n",
            "0    25\n",
            "1    30\n",
            "2    35\n",
            "3    40\n",
            "4    60\n",
            "5    90\n",
            "Name: Idade, dtype: int64\n"
          ]
        }
      ]
    },
    {
      "cell_type": "markdown",
      "source": [
        "## Carregando dados de um csv"
      ],
      "metadata": {
        "id": "g7PQPAgU1oe9"
      }
    },
    {
      "cell_type": "code",
      "source": [
        "# Carregando um DataFrame a partir de um arquivo CSV\n",
        "df_csv = pd.read_csv('dados.csv')\n"
      ],
      "metadata": {
        "id": "V8Rm9Pcx1rfe"
      },
      "execution_count": null,
      "outputs": []
    },
    {
      "cell_type": "markdown",
      "source": [
        "## filtrando dados"
      ],
      "metadata": {
        "id": "SOw7PZ292UBM"
      }
    },
    {
      "cell_type": "code",
      "source": [
        "# Filtrando dados com base em uma condição\n",
        "maiores_de_30 = df[df['Idade'] > 30]\n",
        "print(maiores_de_30)"
      ],
      "metadata": {
        "colab": {
          "base_uri": "https://localhost:8080/"
        },
        "id": "W4fO-Or52Yq1",
        "outputId": "570d0a2a-56ac-4555-d150-feaa1ef2c5e3"
      },
      "execution_count": null,
      "outputs": [
        {
          "output_type": "stream",
          "name": "stdout",
          "text": [
            "      Nome  Idade Cidade\n",
            "2  Charlie     35      C\n",
            "3    Peter     40      D\n",
            "4   Margot     60      E\n",
            "5    Pimba     90      F\n"
          ]
        }
      ]
    },
    {
      "cell_type": "markdown",
      "source": [
        "## Estatisticas Descritivas"
      ],
      "metadata": {
        "id": "j1-Yp2kr3l4Z"
      }
    },
    {
      "cell_type": "code",
      "source": [
        "# Calculando estatísticas descritivas\n",
        "estatisticas = df.describe()\n",
        "print(estatisticas)"
      ],
      "metadata": {
        "colab": {
          "base_uri": "https://localhost:8080/"
        },
        "id": "10xS1pon3aDG",
        "outputId": "cb7b3a31-b05e-4fb1-cd9b-6dfc0dbb011e"
      },
      "execution_count": null,
      "outputs": [
        {
          "output_type": "stream",
          "name": "stdout",
          "text": [
            "           Idade\n",
            "count   6.000000\n",
            "mean   46.666667\n",
            "std    24.426761\n",
            "min    25.000000\n",
            "25%    31.250000\n",
            "50%    37.500000\n",
            "75%    55.000000\n",
            "max    90.000000\n"
          ]
        }
      ]
    },
    {
      "cell_type": "markdown",
      "source": [
        "## Agrupando e agregando dados"
      ],
      "metadata": {
        "id": "oBdZbcRe3xb7"
      }
    },
    {
      "cell_type": "code",
      "source": [
        "# Agrupando por uma coluna e calculando a média\n",
        "media_por_cidade = df.groupby('Cidade')['Idade'].mean()\n",
        "print(media_por_cidade)"
      ],
      "metadata": {
        "colab": {
          "base_uri": "https://localhost:8080/"
        },
        "id": "4pEA0nao32IV",
        "outputId": "b2443caf-8d24-4cca-f76e-588bbbc48cc5"
      },
      "execution_count": null,
      "outputs": [
        {
          "output_type": "stream",
          "name": "stdout",
          "text": [
            "Cidade\n",
            "A    25.0\n",
            "B    30.0\n",
            "C    35.0\n",
            "D    40.0\n",
            "E    60.0\n",
            "F    90.0\n",
            "Name: Idade, dtype: float64\n"
          ]
        }
      ]
    },
    {
      "cell_type": "markdown",
      "source": [
        "## Adicionando nova coluna"
      ],
      "metadata": {
        "id": "3D0HbArO3_Ur"
      }
    },
    {
      "cell_type": "code",
      "source": [
        "import pandas as pd\n",
        "\n",
        "# Criando um DataFrame de exemplo\n",
        "data = {'Nome': ['Alice', 'Bob', 'Charlie'],\n",
        "        'Idade': [25, 30, 35],\n",
        "        'Cidade': ['A', 'B', 'C']}\n",
        "df = pd.DataFrame(data)\n",
        "print(\"Dataframe:\")\n",
        "print(df)\n",
        "\n",
        "# Adicionando uma nova coluna\n",
        "df['Nova_Coluna'] = df['Idade'] * 2\n",
        "\n",
        "# Imprimindo a nova coluna\n",
        "print(\"Nova Coluna:\")\n",
        "print(df['Nova_Coluna'])\n",
        "\n",
        "# Visualizando o DataFrame com a nova coluna\n",
        "print(\"\\nNovo DataFrame:\")\n",
        "print(df)\n"
      ],
      "metadata": {
        "colab": {
          "base_uri": "https://localhost:8080/"
        },
        "id": "nREH5isI4f0S",
        "outputId": "697a66da-3f4e-4d34-ce69-4fd143ccbc20"
      },
      "execution_count": null,
      "outputs": [
        {
          "output_type": "stream",
          "name": "stdout",
          "text": [
            "Dataframe:\n",
            "      Nome  Idade Cidade\n",
            "0    Alice     25      A\n",
            "1      Bob     30      B\n",
            "2  Charlie     35      C\n",
            "Nova Coluna:\n",
            "0    50\n",
            "1    60\n",
            "2    70\n",
            "Name: Nova_Coluna, dtype: int64\n",
            "\n",
            "Novo DataFrame:\n",
            "      Nome  Idade Cidade  Nova_Coluna\n",
            "0    Alice     25      A           50\n",
            "1      Bob     30      B           60\n",
            "2  Charlie     35      C           70\n"
          ]
        }
      ]
    },
    {
      "cell_type": "markdown",
      "source": [
        "## Exemplo de panda series"
      ],
      "metadata": {
        "id": "Wz4CTWNv87b8"
      }
    },
    {
      "cell_type": "code",
      "source": [
        "import pandas as pd\n",
        "\n",
        "certificates_earned = pd.Series(\n",
        "    [8, 2, 5, 6],\n",
        "    index=['Tom', 'Kris', 'Ahmad', 'Beau']\n",
        ")\n",
        "\n",
        "print(certificates_earned)"
      ],
      "metadata": {
        "id": "4p6PUlwT8_fL",
        "outputId": "f42b52b6-9e4d-4392-e146-c00e8b00a284",
        "colab": {
          "base_uri": "https://localhost:8080/"
        }
      },
      "execution_count": null,
      "outputs": [
        {
          "output_type": "stream",
          "name": "stdout",
          "text": [
            "Tom      8\n",
            "Kris     2\n",
            "Ahmad    5\n",
            "Beau     6\n",
            "dtype: int64\n"
          ]
        }
      ]
    },
    {
      "cell_type": "markdown",
      "source": [
        "#Pandas Indexing and Conditional Selection\n",
        "Em Python, o atributo iloc é comumente associado à biblioteca pandas, que é amplamente utilizada para análise de dados e manipulação de conjuntos de dados tabulares. iloc é uma abreviação de \"index location\" e é usado para acessar os elementos de um DataFrame pelo índice numérico, em oposição ao índice baseado em rótulos"
      ],
      "metadata": {
        "id": "_nQjvOEil5Rp"
      }
    },
    {
      "cell_type": "code",
      "source": [
        "import pandas as pd\n",
        "\n",
        "data = {'Nome': ['Alice', 'Bob', 'Charlie', 'David'],\n",
        "        'Idade': [25, 30, 35, 40],\n",
        "        'Salário': [50000, 60000, 75000, 90000]}\n",
        "\n",
        "df = pd.DataFrame(data)\n",
        "print(df)\n",
        "print(\"-------------------------------------------\")\n",
        "\n",
        "#Acessar a primeira linha do DataFrame:\n",
        "primeira_linha = df.iloc[0]\n",
        "print(\"primeira linha:\", primeira_linha)\n",
        "\n",
        "print(\"-------------------------------------------\")\n",
        "\n",
        "#Acessar o valor da segunda linha e da coluna 'Idade':\n",
        "idade_bob = df.iloc[1]['Idade']\n",
        "print(\"idade do bob:\", idade_bob)\n",
        "print(\"-------------------------------------------\")\n",
        "\n",
        "#Acessar um subconjunto do DataFrame (por exemplo, linhas de 1 a 2 e colunas de 0 a 1):\n",
        "subset = df.iloc[1:3, 0:2]\n",
        "print(subset)\n",
        "print()\n",
        "print(\"-------------------------------------------\")\n",
        "#df['Alice'] = 22\n",
        "#df.iloc[-1] = 660 só  daria  assim se fosse uumam sserie\n",
        "print(df)\n",
        "print(\"-------------------------------------------\")\n",
        "#3Modificar um elemento específico usando iloc e índices numéricos:\n",
        "# Modificar a idade de Bob para 31\n",
        "df.iloc[1, df.columns.get_loc('Idade')] = 31\n",
        "print(df)\n",
        "print(\"-------------------------------------------\")\n",
        "#Modificar um elemento específico usando rótulos de coluna:\n",
        "# Modificar o salário de Alice para 55000\n",
        "df.at[0, 'Salário'] = 55000\n",
        "print(df)\n",
        "#O método at permite modificar um único valor com base em rótulos de linha e coluna.\n",
        "print(\"-------------------------------------------\")\n",
        "#Modificar vários elementos simultaneamente:\n",
        "# Modificar as idades de Charlie e David\n",
        "df.loc[df['Nome'].isin(['Charlie', 'David']), 'Idade'] = [36, 41]\n",
        "print(df)"
      ],
      "metadata": {
        "colab": {
          "base_uri": "https://localhost:8080/"
        },
        "id": "4LRtmdu8l46T",
        "outputId": "8c9b4a83-2f81-4271-9acb-7507c6c45ee1"
      },
      "execution_count": null,
      "outputs": [
        {
          "output_type": "stream",
          "name": "stdout",
          "text": [
            "      Nome  Idade  Salário\n",
            "0    Alice     25    50000\n",
            "1      Bob     30    60000\n",
            "2  Charlie     35    75000\n",
            "3    David     40    90000\n",
            "-------------------------------------------\n",
            "primeira linha: Nome       Alice\n",
            "Idade         25\n",
            "Salário    50000\n",
            "Name: 0, dtype: object\n",
            "-------------------------------------------\n",
            "idade do bob: 30\n",
            "-------------------------------------------\n",
            "      Nome  Idade\n",
            "1      Bob     30\n",
            "2  Charlie     35\n",
            "\n",
            "-------------------------------------------\n",
            "      Nome  Idade  Salário\n",
            "0    Alice     25    50000\n",
            "1      Bob     30    60000\n",
            "2  Charlie     35    75000\n",
            "3    David     40    90000\n",
            "-------------------------------------------\n",
            "      Nome  Idade  Salário\n",
            "0    Alice     25    50000\n",
            "1      Bob     31    60000\n",
            "2  Charlie     35    75000\n",
            "3    David     40    90000\n",
            "-------------------------------------------\n",
            "      Nome  Idade  Salário\n",
            "0    Alice     25    55000\n",
            "1      Bob     31    60000\n",
            "2  Charlie     35    75000\n",
            "3    David     40    90000\n",
            "-------------------------------------------\n",
            "      Nome  Idade  Salário\n",
            "0    Alice     25    55000\n",
            "1      Bob     31    60000\n",
            "2  Charlie     36    75000\n",
            "3    David     41    90000\n"
          ]
        }
      ]
    },
    {
      "cell_type": "code",
      "source": [
        "import pandas as pd\n",
        "\n",
        "certificates_earned = pd.Series(\n",
        "    [8, 2, 5, 6],\n",
        "    index=['Tom', 'Kris', 'Ahmad', 'Beau']\n",
        ")\n",
        "certificates_earned.iloc[-1] = 660\n",
        "print(certificates_earned[certificates_earned > 5])\n",
        "\n",
        "\n"
      ],
      "metadata": {
        "colab": {
          "base_uri": "https://localhost:8080/"
        },
        "id": "bgXnkZHLolqe",
        "outputId": "ab0d518a-1dc0-4703-c9c1-2f1775d49da9"
      },
      "execution_count": null,
      "outputs": [
        {
          "output_type": "stream",
          "name": "stdout",
          "text": [
            "Tom       8\n",
            "Beau    660\n",
            "dtype: int64\n"
          ]
        }
      ]
    },
    {
      "cell_type": "markdown",
      "source": [
        "# Panda DataFrames"
      ],
      "metadata": {
        "id": "CWHjQc8Pq7YG"
      }
    },
    {
      "cell_type": "code",
      "source": [
        "import pandas as pd\n",
        "\n",
        "certificates_earned = pd.DataFrame({\n",
        "    'Certificates': [8, 2, 5, 6],\n",
        "    'Time (in months)': [16, 5, 9, 12]\n",
        "})\n",
        "\n",
        "certificates_earned.index = ['Tom', 'Kris', 'Ahmad', 'Beau']\n",
        "\n",
        "print(certificates_earned.iloc[2])"
      ],
      "metadata": {
        "colab": {
          "base_uri": "https://localhost:8080/"
        },
        "id": "4aKC-ZUIr2qr",
        "outputId": "d736d672-c7f5-439d-fdb2-b1630f2f7434"
      },
      "execution_count": null,
      "outputs": [
        {
          "output_type": "stream",
          "name": "stdout",
          "text": [
            "Certificates        5\n",
            "Time (in months)    9\n",
            "Name: Ahmad, dtype: int64\n"
          ]
        }
      ]
    },
    {
      "cell_type": "code",
      "source": [
        "dataframe.columns\n",
        "dataframe.index\n",
        "dataframe.info()\n",
        "dataframe.size\n",
        "dataframe.shape\n",
        "dataframe.describe()\n",
        "dataframe.dtypes\n",
        "dataframe.value_counts()\n",
        "\n",
        "fala tambem sobre indexing, selection e slicing esse dataframe"
      ],
      "metadata": {
        "id": "A4OHhNDiCMvz"
      },
      "execution_count": null,
      "outputs": []
    },
    {
      "cell_type": "code",
      "source": [
        "import pandas as pd\n",
        "\n",
        "# Criando um DataFrame com dados fictícios\n",
        "dados = {'Nome': ['Alice', 'Bob', 'Charlie', 'David'],\n",
        "         'Idade': [25, 30, 35, 40],\n",
        "         'Cidade': ['Rio de Janeiro', 'São Paulo', 'Belo Horizonte', 'Brasília'],\n",
        "         'Salário': [50000, 60000, 75000, 90000]}\n",
        "\n",
        "df = pd.DataFrame(dados)\n",
        "\n",
        "# Exibindo o DataFrame\n",
        "print(\"DataFrame original:\")\n",
        "print(df)\n",
        "print(\"----------------------------------------------------------------\")\n",
        "\n",
        "# Métodos e conceitos:\n",
        "\n",
        "# dataframe.columns\n",
        "print(\"Colunas do DataFrame:\")\n",
        "print(df.columns)\n",
        "print()\n",
        "print(\"----------------------------------------------------------------\")\n",
        "\n",
        "# dataframe.index\n",
        "print(\"Índices das linhas do DataFrame:\")\n",
        "print(df.index)\n",
        "print()\n",
        "print(\"----------------------------------------------------------------\")\n",
        "# dataframe.info()\n",
        "print(\"Informações sobre o DataFrame:\")\n",
        "df.info()\n",
        "print()\n",
        "print(\"----------------------------------------------------------------\")\n",
        "\n",
        "# dataframe.size\n",
        "print(\"Tamanho total do DataFrame:\")\n",
        "print(df.size)\n",
        "print()\n",
        "print(\"----------------------------------------------------------------\")\n",
        "\n",
        "# dataframe.shape\n",
        "print(\"Dimensões do DataFrame (linhas, colunas):\")\n",
        "print(df.shape)\n",
        "print()\n",
        "print(\"----------------------------------------------------------------\")\n",
        "\n",
        "# dataframe.describe()\n",
        "print(\"Estatísticas descritivas do DataFrame:\")\n",
        "print(df.describe())\n",
        "print()\n",
        "print(\"----------------------------------------------------------------\")\n",
        "\n",
        "# dataframe.dtypes\n",
        "print(\"Tipos de dados das colunas do DataFrame:\")\n",
        "print(df.dtypes)\n",
        "print()\n",
        "print(\"----------------------------------------------------------------\")\n",
        "# dataframe.value_counts()\n",
        "print(\"Contagem de valores únicos na coluna 'Cidade':\")\n",
        "print(df['Cidade'].value_counts())\n",
        "print()\n",
        "print(\"----------------------------------------------------------------\")\n",
        "\n",
        "# Indexing, Selection e Slicing:\n",
        "\n",
        "# Indexing\n",
        "print(\"Selecionando a coluna 'Idade' por rótulo de coluna:\")\n",
        "idade = df['Idade']\n",
        "print(idade)\n",
        "print()\n",
        "print(\"----------------------------------------------------------------\")\n",
        "\n",
        "# Selection\n",
        "print(\"Selecionando pessoas com salário superior a 70000:\")\n",
        "pessoas_salario_alto = df[df['Salário'] > 70000]\n",
        "print(pessoas_salario_alto)\n",
        "print()\n",
        "print(\"----------------------------------------------------------------\")\n",
        "# Slicing\n",
        "print(\"Slicing de linhas (índices 1 a 2):\")\n",
        "intervalo_linhas = df[1:3]\n",
        "print(intervalo_linhas)\n",
        "print()\n",
        "print(\"----------------------------------------------------------------\")\n",
        "\n",
        "print(\"Slicing de colunas ('Nome' e 'Idade'):\")\n",
        "colunas_selecionadas = df[['Nome', 'Idade']]\n",
        "print(colunas_selecionadas)\n",
        "print(\"----------------------------------------------------------------\")"
      ],
      "metadata": {
        "colab": {
          "base_uri": "https://localhost:8080/"
        },
        "id": "5Ea5YAROEzsI",
        "outputId": "29930b32-1f46-4908-b6fc-1dac7f86d3ab"
      },
      "execution_count": null,
      "outputs": [
        {
          "output_type": "stream",
          "name": "stdout",
          "text": [
            "DataFrame original:\n",
            "      Nome  Idade          Cidade  Salário\n",
            "0    Alice     25  Rio de Janeiro    50000\n",
            "1      Bob     30       São Paulo    60000\n",
            "2  Charlie     35  Belo Horizonte    75000\n",
            "3    David     40        Brasília    90000\n",
            "----------------------------------------------------------------\n",
            "Colunas do DataFrame:\n",
            "Index(['Nome', 'Idade', 'Cidade', 'Salário'], dtype='object')\n",
            "\n",
            "----------------------------------------------------------------\n",
            "Índices das linhas do DataFrame:\n",
            "RangeIndex(start=0, stop=4, step=1)\n",
            "\n",
            "----------------------------------------------------------------\n",
            "Informações sobre o DataFrame:\n",
            "<class 'pandas.core.frame.DataFrame'>\n",
            "RangeIndex: 4 entries, 0 to 3\n",
            "Data columns (total 4 columns):\n",
            " #   Column   Non-Null Count  Dtype \n",
            "---  ------   --------------  ----- \n",
            " 0   Nome     4 non-null      object\n",
            " 1   Idade    4 non-null      int64 \n",
            " 2   Cidade   4 non-null      object\n",
            " 3   Salário  4 non-null      int64 \n",
            "dtypes: int64(2), object(2)\n",
            "memory usage: 256.0+ bytes\n",
            "\n",
            "----------------------------------------------------------------\n",
            "Tamanho total do DataFrame:\n",
            "16\n",
            "\n",
            "----------------------------------------------------------------\n",
            "Dimensões do DataFrame (linhas, colunas):\n",
            "(4, 4)\n",
            "\n",
            "----------------------------------------------------------------\n",
            "Estatísticas descritivas do DataFrame:\n",
            "           Idade  Salário\n",
            "count   4.000000      4.0\n",
            "mean   32.500000  68750.0\n",
            "std     6.454972  17500.0\n",
            "min    25.000000  50000.0\n",
            "25%    28.750000  57500.0\n",
            "50%    32.500000  67500.0\n",
            "75%    36.250000  78750.0\n",
            "max    40.000000  90000.0\n",
            "\n",
            "----------------------------------------------------------------\n",
            "Tipos de dados das colunas do DataFrame:\n",
            "Nome       object\n",
            "Idade       int64\n",
            "Cidade     object\n",
            "Salário     int64\n",
            "dtype: object\n",
            "\n",
            "----------------------------------------------------------------\n",
            "Contagem de valores únicos na coluna 'Cidade':\n",
            "Rio de Janeiro    1\n",
            "São Paulo         1\n",
            "Belo Horizonte    1\n",
            "Brasília          1\n",
            "Name: Cidade, dtype: int64\n",
            "\n",
            "----------------------------------------------------------------\n",
            "Selecionando a coluna 'Idade' por rótulo de coluna:\n",
            "0    25\n",
            "1    30\n",
            "2    35\n",
            "3    40\n",
            "Name: Idade, dtype: int64\n",
            "\n",
            "----------------------------------------------------------------\n",
            "Selecionando pessoas com salário superior a 70000:\n",
            "      Nome  Idade          Cidade  Salário\n",
            "2  Charlie     35  Belo Horizonte    75000\n",
            "3    David     40        Brasília    90000\n",
            "\n",
            "----------------------------------------------------------------\n",
            "Slicing de linhas (índices 1 a 2):\n",
            "      Nome  Idade          Cidade  Salário\n",
            "1      Bob     30       São Paulo    60000\n",
            "2  Charlie     35  Belo Horizonte    75000\n",
            "\n",
            "----------------------------------------------------------------\n",
            "Slicing de colunas ('Nome' e 'Idade'):\n",
            "      Nome  Idade\n",
            "0    Alice     25\n",
            "1      Bob     30\n",
            "2  Charlie     35\n",
            "3    David     40\n",
            "----------------------------------------------------------------\n"
          ]
        }
      ]
    },
    {
      "cell_type": "code",
      "source": [
        "import pandas as pd\n",
        "\n",
        "certificates_earned = pd.DataFrame({\n",
        "    'Certificates': [8, 2, 5, 6],\n",
        "    'Time (in months)': [16, 5, 9, 12]\n",
        "})\n",
        "names = ['Tom', 'Kris', 'Ahmad', 'Beau']\n",
        "\n",
        "certificates_earned.index = names\n",
        "longest_streak = pd.Series([13, 11, 9, 7], index=names)\n",
        "certificates_earned['Longest streak'] = longest_streak\n",
        "\n",
        "print(certificates_earned)\n",
        "\n",
        "#realizar operações com as colunas do dataframe\n"
      ],
      "metadata": {
        "colab": {
          "base_uri": "https://localhost:8080/"
        },
        "id": "9ZK4MdYqGHUh",
        "outputId": "89159ac9-22db-4766-a668-5c87834b7785"
      },
      "execution_count": null,
      "outputs": [
        {
          "output_type": "stream",
          "name": "stdout",
          "text": [
            "       Certificates  Time (in months)  Longest streak\n",
            "Tom               8                16              13\n",
            "Kris              2                 5              11\n",
            "Ahmad             5                 9               9\n",
            "Beau              6                12               7\n"
          ]
        }
      ]
    },
    {
      "cell_type": "markdown",
      "source": [
        "# Seleção condicional Pandas e modificação de dataframes"
      ],
      "metadata": {
        "id": "FC9LWwuEGNSX"
      }
    },
    {
      "cell_type": "code",
      "source": [],
      "metadata": {
        "id": "lnuRBtOvNToG"
      },
      "execution_count": null,
      "outputs": []
    },
    {
      "cell_type": "code",
      "source": [
        "import pandas as pd\n",
        "\n",
        "# Criando um DataFrame com dados fictícios\n",
        "dados = {'Nome': ['Alice', 'Bob', 'Charlie', 'David'],\n",
        "         'Idade': [25, 30, 35, 40],\n",
        "         'Cidade': ['Rio de Janeiro', 'São Paulo', 'Belo Horizonte', 'Brasília'],\n",
        "         'Salário': [50000, 60000, 75000, 90000]}\n",
        "\n",
        "df = pd.DataFrame(dados)\n",
        "\n",
        "# Exibindo o DataFrame original\n",
        "print(\"DataFrame original:\")\n",
        "print(df)\n",
        "print()\n",
        "\n",
        "# Seleção condicional com base em uma condição específica\n",
        "print(\"Selecionando pessoas com idade superior a 30 anos:\")\n",
        "selecao_idade = df[df['Idade'] > 30]\n",
        "print(selecao_idade)\n",
        "print()\n",
        "\n",
        "# Seleção condicional com base em múltiplas condições\n",
        "print(\"Selecionando pessoas em São Paulo com salário superior a 60000:\")\n",
        "selecao_multipla = df[(df['Cidade'] == 'São Paulo') & (df['Salário'] > 60000)]\n",
        "print(selecao_multipla)\n",
        "print()\n",
        "\n",
        "# Modificando valores em uma coluna com base em uma condição\n",
        "print(\"Aumentando o salário das pessoas com idade superior a 30 anos em 10%:\")\n",
        "df.loc[df['Idade'] > 30, 'Salário'] *= 1.1\n",
        "print(df)\n",
        "print()\n",
        "\n",
        "# Adicionando uma nova coluna ao DataFrame\n",
        "df['Bônus'] = [2000, 2500, 3000, 3500]\n",
        "print(\"Adicionando uma coluna 'Bônus' ao DataFrame:\")\n",
        "print(df)\n",
        "print()\n",
        "\n",
        "# Excluindo uma coluna do DataFrame\n",
        "df = df.drop('Bônus', axis=1)\n",
        "print(\"Removendo a coluna 'Bônus' do DataFrame:\")\n",
        "print(df)\n",
        "\n",
        "# Excluindo linhas\n",
        "df = df.drop(2)\n",
        "print(df)\n",
        "\n",
        "#================= realizando as mesmas operações mas com o loc=========\n",
        "# Seleção condicional usando loc\n",
        "print(\"Selecionando pessoas com idade superior a 30 anos:\")\n",
        "selecao_idade = df.loc[df['Idade'] > 30]\n",
        "print(selecao_idade)\n",
        "print()\n",
        "\n",
        "# Seleção condicional com múltiplas condições usando loc\n",
        "print(\"Selecionando pessoas em São Paulo com salário superior a 60000:\")\n",
        "selecao_multipla = df.loc[(df['Cidade'] == 'São Paulo') & (df['Salário'] > 60000)]\n",
        "print(selecao_multipla)\n",
        "print()\n",
        "\n",
        "# Modificando valores em uma coluna com base em uma condição usando loc\n",
        "print(\"Aumentando o salário das pessoas com idade superior a 30 anos em 10%:\")\n",
        "df.loc[df['Idade'] > 30, 'Salário'] *= 1.1\n",
        "print(df)\n",
        "print()\n",
        "\n",
        "# Adicionando uma nova coluna ao DataFrame usando loc\n",
        "df.loc[:, 'Bônus'] = [2000, 2500, 3000, 3500]\n",
        "print(\"Adicionando uma coluna 'Bônus' ao DataFrame:\")\n",
        "print(df)\n",
        "print()\n",
        "\n",
        "# Excluindo uma coluna do DataFrame usando loc\n",
        "df = df.drop('Bônus', axis=1)\n",
        "print(\"Removendo a coluna 'Bônus' do DataFrame:\")\n",
        "print(df)\n",
        "\n",
        "#--------------------------------------------\n",
        "#pesquisar sobre operações com series, substituindo valore por coluna, renomeando colunas"
      ],
      "metadata": {
        "id": "gM3YwqVlGqvH"
      },
      "execution_count": null,
      "outputs": []
    },
    {
      "cell_type": "code",
      "source": [
        "from google.colab import drive\n",
        "drive.mount('/content/drive')\n"
      ],
      "metadata": {
        "colab": {
          "base_uri": "https://localhost:8080/"
        },
        "id": "qmWO0r5rNUh3",
        "outputId": "b88bd5e3-e33c-4048-e8d6-30ee02ec3268"
      },
      "execution_count": null,
      "outputs": [
        {
          "output_type": "stream",
          "name": "stdout",
          "text": [
            "Drive already mounted at /content/drive; to attempt to forcibly remount, call drive.mount(\"/content/drive\", force_remount=True).\n"
          ]
        }
      ]
    },
    {
      "cell_type": "code",
      "source": [
        "!git clone https://github.com/juliaNogueiraC/Estudos-em-Data-Analysis-Python"
      ],
      "metadata": {
        "colab": {
          "base_uri": "https://localhost:8080/"
        },
        "id": "146AdHJWNyeQ",
        "outputId": "d5d39a64-4e89-4a75-f6db-0cebcb75e4a9"
      },
      "execution_count": null,
      "outputs": [
        {
          "output_type": "stream",
          "name": "stdout",
          "text": [
            "fatal: destination path 'Estudos-em-Data-Analysis-Python' already exists and is not an empty directory.\n"
          ]
        }
      ]
    },
    {
      "cell_type": "code",
      "source": [
        "%cd /content/drive/MyDrive/Estudos-em-Data-Analysis-Python.ipynb"
      ],
      "metadata": {
        "colab": {
          "base_uri": "https://localhost:8080/"
        },
        "id": "va8oNoIxN889",
        "outputId": "53facfb7-937d-456b-8b57-9fa2f85fa5a4"
      },
      "execution_count": null,
      "outputs": [
        {
          "output_type": "stream",
          "name": "stdout",
          "text": [
            "[Errno 2] No such file or directory: '/content/drive/MyDrive/Estudos-em-Data-Analysis-Python.ipynb'\n",
            "/content\n"
          ]
        }
      ]
    },
    {
      "cell_type": "code",
      "source": [
        "!git add ."
      ],
      "metadata": {
        "colab": {
          "base_uri": "https://localhost:8080/"
        },
        "id": "lTpXvdnSQZKm",
        "outputId": "1517d637-2133-48d8-8efb-ed87e8acf0a2"
      },
      "execution_count": null,
      "outputs": [
        {
          "output_type": "stream",
          "name": "stdout",
          "text": [
            "fatal: not a git repository (or any of the parent directories): .git\n"
          ]
        }
      ]
    },
    {
      "cell_type": "code",
      "source": [
        "!git commit -m\n"
      ],
      "metadata": {
        "colab": {
          "base_uri": "https://localhost:8080/"
        },
        "id": "mAqvwvEfQav9",
        "outputId": "eef9e728-ca3d-480f-eb8f-fbbb029afbb4"
      },
      "execution_count": null,
      "outputs": [
        {
          "output_type": "stream",
          "name": "stdout",
          "text": [
            "fatal: not a git repository (or any of the parent directories): .git\n"
          ]
        }
      ]
    },
    {
      "cell_type": "code",
      "source": [
        "!git push origin main"
      ],
      "metadata": {
        "colab": {
          "base_uri": "https://localhost:8080/"
        },
        "id": "SpXjllgfQcoO",
        "outputId": "cc6623a8-72c6-4137-8fc5-c9bef70eb336"
      },
      "execution_count": null,
      "outputs": [
        {
          "output_type": "stream",
          "name": "stdout",
          "text": [
            "fatal: not a git repository (or any of the parent directories): .git\n"
          ]
        }
      ]
    }
  ]
}